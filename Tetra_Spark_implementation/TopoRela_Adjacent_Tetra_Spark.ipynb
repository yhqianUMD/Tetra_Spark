{
 "cells": [
  {
   "cell_type": "code",
   "execution_count": 1,
   "id": "leading-killer",
   "metadata": {},
   "outputs": [],
   "source": [
    "import findspark\n",
    "import os\n",
    "import gc\n",
    "#findspark.init() \n",
    "SPARK_HOME='/opt/cloudera/parcels/CDH/lib/spark'\n",
    "findspark.init(SPARK_HOME)\n",
    "\n",
    "import time\n",
    "import math\n",
    "import copy\n",
    "import csv\n",
    "import json\n",
    "import os\n",
    "import codecs\n",
    "import subprocess\n",
    "import numpy as np\n",
    "from pyspark import SQLContext\n",
    "from pyspark.sql import Row\n",
    "from pyspark.sql import functions as F\n",
    "from pyspark.sql.functions import size, array_union,flatten,array_sort,coalesce,broadcast,collect_list, collect_set, udf, array_remove, log, lit, first, col, array, sort_array,split, explode, desc, asc, row_number,isnan, when, count\n",
    "from pyspark.sql.types import *\n",
    "import rtree\n",
    "from pyspark.sql import Window\n",
    "import geofeather\n",
    "from pyspark.storagelevel import StorageLevel\n",
    "\n",
    "from pyspark.sql import SparkSession\n",
    "from pyspark import StorageLevel\n",
    "import geopandas as gpd\n",
    "import pandas as pd\n",
    "from pyspark.sql.types import StructType, StructField, StringType, IntegerType, LongType, FloatType, ArrayType, MapType\n",
    "from shapely.geometry import Point\n",
    "from shapely.geometry import Polygon\n",
    "\n",
    "from sedona.register import SedonaRegistrator\n",
    "from sedona.core.SpatialRDD import SpatialRDD, PointRDD, CircleRDD, PolygonRDD, LineStringRDD\n",
    "from sedona.core.enums import FileDataSplitter\n",
    "from sedona.utils.adapter import Adapter\n",
    "from sedona.core.spatialOperator import KNNQuery\n",
    "from sedona.core.spatialOperator import JoinQuery\n",
    "from sedona.core.spatialOperator import JoinQueryRaw\n",
    "from sedona.core.spatialOperator import RangeQuery\n",
    "from sedona.core.spatialOperator import RangeQueryRaw\n",
    "from sedona.core.formatMapper.shapefileParser import ShapefileReader\n",
    "from sedona.core.formatMapper import WkbReader\n",
    "from sedona.core.formatMapper import WktReader\n",
    "from sedona.core.formatMapper import GeoJsonReader\n",
    "from sedona.sql.types import GeometryType\n",
    "from sedona.core.enums import GridType\n",
    "from sedona.core.SpatialRDD import RectangleRDD\n",
    "from sedona.core.enums import IndexType\n",
    "from sedona.core.geom.envelope import Envelope\n",
    "from sedona.utils import SedonaKryoRegistrator, KryoSerializer\n",
    "\n",
    "os.environ['PYSPARK_PYTHON'] = \"./environment/bin/python\"\n",
    "#os.environ['PYSPARK_PYTHON'] = \"/home/qiany/.conda/envs/py37/bin/python\"\n",
    "os.environ['YARN_CONF_DIR'] = \"/opt/cloudera/parcels/CDH/lib/spark/conf/yarn-conf\""
   ]
  },
  {
   "cell_type": "code",
   "execution_count": 2,
   "id": "micro-bicycle",
   "metadata": {},
   "outputs": [
    {
     "name": "stdout",
     "output_type": "stream",
     "text": [
      "\n",
      "********************\n",
      "tin_directory:  /home/qiany/yuehui/pyspark/Tetra_mesh/data\n",
      "tin_basename:  Lander_big.ts\n",
      "tin_filename:  Lander_big\n",
      "tin_extension:  .ts\n",
      "\n",
      "********************\n",
      "This is a TIN file in \".ts\" format\n"
     ]
    }
   ],
   "source": [
    "tin_file = input(\"Here is a programe to extract boundary relations, please input the absolute or relative path to your .ts file:\")\n",
    "\n",
    "# get the directory, basename of the input file\n",
    "print(\"\\n********************\")\n",
    "tin_directory = os.path.dirname(tin_file)\n",
    "print(\"tin_directory: \", tin_directory)\n",
    "\n",
    "directory_type = input(\"Is the data stored in hdfs(0) or Tri_data(1) or Tetra_data (2):\") or \"2\"\n",
    "\n",
    "if directory_type == '0':\n",
    "    directory = 'hdfs_data'\n",
    "elif directory_type == '1':\n",
    "    directory = 'Tri_data'\n",
    "else:\n",
    "    directory = 'Tetra_data'\n",
    "    \n",
    "tin_basename = os.path.basename(tin_file) # input_vertices_2.off\n",
    "print(\"tin_basename: \", tin_basename)\n",
    "\n",
    "tin_filename = os.path.splitext(tin_basename)[0] # input_vertices_2\n",
    "print(\"tin_filename: \", tin_filename)\n",
    "\n",
    "tin_extension = os.path.splitext(tin_basename)[1] # .off\n",
    "print(\"tin_extension: \", tin_extension)\n",
    "\n",
    "print(\"\\n********************\")\n",
    "print(\"This is a TIN file in \\\"%s\\\" format\" % tin_extension)\n",
    "\n",
    "filtra = 'yes'\n",
    "\n",
    "# allocate the number of executors, the number of cores per executor, and the amount of memory per executor\n",
    "Num_executor = '64'\n",
    "Num_core_per_executor = '5'\n",
    "Memory_executor = '64g'\n",
    "MemoryOverhead_executor = '8g'\n",
    "\n",
    "# allocate the number of cores for the driver node\n",
    "Num_core_per_driver = '5'\n",
    "Memory_driver = '64g'\n",
    "MemoryOverhead_driver = '32g'\n",
    "\n",
    "# the default number of shuffle partitions\n",
    "Num_shuffle_partitions = input(\"spark.sql.shuffle.partitions:\")"
   ]
  },
  {
   "cell_type": "code",
   "execution_count": 3,
   "id": "changing-might",
   "metadata": {},
   "outputs": [
    {
     "name": "stdin",
     "output_type": "stream",
     "text": [
      "What kind of connectivity relation do you want to retrieve? TT_M1\n"
     ]
    },
    {
     "name": "stdout",
     "output_type": "stream",
     "text": [
      "spark_app_name: TopoRela_Adjacent_TetraMesh_Lander_big_06152024_1343_TT_M1\n"
     ]
    }
   ],
   "source": [
    "'''\n",
    "spark.executor.cores: # Number of concurrent tasks an executor can run, euqals to the number of cores to use on each executor\n",
    "spark.executor.instances: # Number of executors for the spark application\n",
    "spark.executor.memory: # Amount of memory to use for each executor that runs the task\n",
    "spark.executor.memoryOverhead:\n",
    "spark.driver.cores: # Number of cores to use for the driver process; the default number is 1\n",
    "spark.driver.memory: # Amount of memory to use for the driver\n",
    "spark.driver.maxResultSize: to define the maximum limit of the total size of the serialized result that a driver can store for each Spark collect action\n",
    "spark.default.parallelism: # Default number of partitions in RDDs returned by transformations like join, reduceByKey, and parallelize when not set by user. It can be set as spark.executor.instances * spark.executor.cores * 2\n",
    "spark.sql.shuffle.partitions: determine how many partitions are used when data is shuffled between nodes, e.g., joins or aggregations. usually 1~5 times of executor.instances * executor.cores\n",
    "spark.memory.storageFraction: determines the fraction of the heap space that is allocated to caching RDDs and DataFrames in memory.\n",
    "spark.kryoserializer.buffer.max: determine the maximum of data that can be serialized at once; this must be larger than any object we attempt to serialize\n",
    "spark.rpc.message.maxSize: # Maximum message size (in MiB) to allow in \"control plane\" communication; generally only applies to map output size information sent between executors and the driver. To communicate between the nodes, Spark uses a protocol called RPC (Remote Procedure Call), which sends messages back and forth. The spark.rpc.message.maxSize parameter limits how big these messages can be. \n",
    "spark.sql.broadcastTimeout: Spark will wait for this amount of time before giving up on broadcasting a table. Broadcasting can take a long time if the table is large or if there is a shuffle operation before it.\n",
    "spark.sql.autoBroadcastJoinThreshold: Spark will broadcast a table to all worker nodes when performing a join if its size is less than this value; -1 means disabling broadcasting\n",
    "'''\n",
    "\n",
    "date = time.strftime(\"%m,%d,%Y\")\n",
    "date_name = date.split(',')[0] + date.split(',')[1] + date.split(',')[2]\n",
    "\n",
    "hour = time.strftime(\"%H,%M\")\n",
    "hour_name = hour.split(',')[0] + hour.split(',')[1]\n",
    "\n",
    "Topo = input(\"What kind of connectivity relation do you want to retrieve?\")\n",
    "\n",
    "spark_app_name = \"TopoRela_Adjacent_TetraMesh_\" + tin_filename + '_' + date_name + '_' + hour_name + '_' + Topo\n",
    "print(\"spark_app_name:\", spark_app_name)\n",
    "\n",
    "spark = SparkSession \\\n",
    ".builder \\\n",
    ".appName(spark_app_name) \\\n",
    ".master('yarn') \\\n",
    ".config(\"spark.serializer\", KryoSerializer.getName) \\\n",
    ".config('spark.jars','sedona-core-2.4_2.11-1.0.0-incubating.jar,sedona-sql-2.4_2.11-1.0.0-incubating.jar,sedona-python-adapter-2.4_2.11-1.0.0-incubating.jar,sedona-viz-2.4_2.11-1.0.0-incubating.jar,geotools-wrapper-geotools-24.0.jar,graphframes-0.8.0-spark2.4-s_2.11.jar') \\\n",
    ".config('spark.executor.cores', Num_core_per_executor) \\\n",
    ".config('spark.executor.instances', Num_executor) \\\n",
    ".config('spark.executor.memory', Memory_executor) \\\n",
    ".config('spark.executor.memoryOverhead', MemoryOverhead_executor) \\\n",
    ".config('spark.driver.cores', Num_core_per_driver) \\\n",
    ".config('spark.driver.memory', Memory_driver) \\\n",
    ".config('spark.driver.memoryOverhead', MemoryOverhead_driver) \\\n",
    ".config('spark.driver.maxResultSize', '0') \\\n",
    ".config('spark.dynamicAllocation.enabled', 'false') \\\n",
    ".config('spark.network.timeout', '10000001s') \\\n",
    ".config('spark.executor.heartbeatInterval', '10000000s') \\\n",
    ".config('spark.sql.shuffle.partitions', Num_shuffle_partitions) \\\n",
    ".config(\"spark.default.parallelism\", '400') \\\n",
    ".config(\"spark.kryoserializer.buffer.max\", \"1024mb\") \\\n",
    ".config('spark.rpc.message.maxSize', '256') \\\n",
    ".config(\"spark.sql.broadcastTimeout\", \"36000\") \\\n",
    ".config(\"spark.sql.autoBroadcastJoinThreshold\", \"-1\") \\\n",
    ".config(\"spark.sql.objectHashAggregate.sortBased.fallbackThreshold\", \"-1\") \\\n",
    ".config('spark.yarn.dist.archives', '/local/data/yuehui/py37.tar.gz#environment') \\\n",
    ".config(\"spark.python.profile\", \"true\") \\\n",
    ".config(\"spark.eventLog.enabled\", \"true\") \\\n",
    ".config(\"spark.eventLog.logStageExecutorMetrics\", \"true\") \\\n",
    ".getOrCreate()"
   ]
  },
  {
   "cell_type": "markdown",
   "id": "analyzed-trust",
   "metadata": {},
   "source": [
    "### read input files"
   ]
  },
  {
   "cell_type": "code",
   "execution_count": 4,
   "id": "governmental-mechanism",
   "metadata": {},
   "outputs": [
    {
     "name": "stdout",
     "output_type": "stream",
     "text": [
      "Number of partitions for df_tetra_origin: 4959\n",
      "root\n",
      " |-- r1: integer (nullable = true)\n",
      " |-- r2: integer (nullable = true)\n",
      " |-- r3: integer (nullable = true)\n",
      " |-- r4: integer (nullable = true)\n",
      " |-- r1_ele: float (nullable = true)\n",
      " |-- r2_ele: float (nullable = true)\n",
      " |-- r3_ele: float (nullable = true)\n",
      " |-- r4_ele: float (nullable = true)\n",
      "\n"
     ]
    }
   ],
   "source": [
    "# read_tetra_order() is a function used to read tetrahedron from a csv file\n",
    "def read_tetra_order(hdfs_tetra_origin):\n",
    "    '''\n",
    "    this function has two input parameters.\n",
    "    filtra: 'yes' or 'no', yes means that the input csv file is ordered by default\n",
    "    directory: a string denoting the directory to a tetrahedra file\n",
    "    tin_filename: a string denoting the file name of a tetrahedra extension, e.g., 827_monviso\n",
    "    '''\n",
    "        \n",
    "    schema_tetra_origin = StructType([ \\\n",
    "        StructField(\"tetra_order\",IntegerType(),True), \\\n",
    "        StructField(\"r1\",IntegerType(),True), \\\n",
    "        StructField(\"r2\",IntegerType(),True), \\\n",
    "        StructField(\"r3\",IntegerType(),True), \\\n",
    "        StructField(\"r4\",IntegerType(),True), \\\n",
    "        StructField(\"r1_ele\",FloatType(),True), \\\n",
    "        StructField(\"r2_ele\",FloatType(),True), \\\n",
    "        StructField(\"r3_ele\",FloatType(),True), \\\n",
    "        StructField(\"r4_ele\",FloatType(),True) \\\n",
    "      ])\n",
    "\n",
    "    df_tetra_origin = spark.read.format(\"csv\") \\\n",
    "          .option(\"header\", False) \\\n",
    "          .schema(schema_tetra_origin)\\\n",
    "          .load(hdfs_tetra_origin)\n",
    "        \n",
    "    return df_tetra_origin\n",
    "\n",
    "\n",
    "# read tetrahedra\n",
    "hdfs_tetra_origin = directory + \"/\" + tin_filename + '_filtra_tetra_sort.csv'\n",
    "\n",
    "df_tetra_order = read_tetra_order(hdfs_tetra_origin)\n",
    "df_tetra_order.printSchema()"
   ]
  },
  {
   "cell_type": "markdown",
   "id": "buried-tribune",
   "metadata": {},
   "source": [
    "# VV relation"
   ]
  },
  {
   "cell_type": "markdown",
   "id": "quantitative-season",
   "metadata": {},
   "source": [
    "### Method 1: pure global"
   ]
  },
  {
   "cell_type": "code",
   "execution_count": 5,
   "id": "final-robertson",
   "metadata": {},
   "outputs": [],
   "source": [
    "# function to get VV using groupby\n",
    "def get_VV(df_tetra_order):\n",
    "    df_VV_init_1 = df_tetra_order.select(\"r1\", \"r2\", \"r3\", \"r4\")\n",
    "    df_VV_init_2 = df_tetra_order.select(\"r2\", \"r1\", \"r3\", \"r4\")\n",
    "    df_VV_init_3 = df_tetra_order.select(\"r3\", \"r1\", \"r2\", \"r4\")\n",
    "    df_VV_init_4 = df_tetra_order.select(\"r4\", \"r1\", \"r2\", \"r3\")\n",
    "    \n",
    "    df_VV_union1234 = df_VV_init_1.union(df_VV_init_2).union(df_VV_init_3).union(df_VV_init_4)\n",
    "    \n",
    "    df_VV_gp = df_VV_union1234.groupBy('r1').agg(collect_set('r2').alias('multi_r2_set'),collect_set('r3').alias('multi_r3_set'),collect_set('r4').alias('multi_r4_set'))\n",
    "    \n",
    "    return df_VV_gp"
   ]
  },
  {
   "cell_type": "code",
   "execution_count": 6,
   "id": "voluntary-opera",
   "metadata": {},
   "outputs": [
    {
     "name": "stdout",
     "output_type": "stream",
     "text": [
      "root\n",
      " |-- r1: integer (nullable = true)\n",
      " |-- multi_r2_set: array (nullable = true)\n",
      " |    |-- element: integer (containsNull = true)\n",
      " |-- multi_r3_set: array (nullable = true)\n",
      " |    |-- element: integer (containsNull = true)\n",
      " |-- multi_r4_set: array (nullable = true)\n",
      " |    |-- element: integer (containsNull = true)\n",
      "\n"
     ]
    }
   ],
   "source": [
    "df_VV_gp = get_VV(df_tetra_order)\n",
    "\n",
    "df_VV_gp.printSchema()"
   ]
  },
  {
   "cell_type": "code",
   "execution_count": 7,
   "id": "impaired-elements",
   "metadata": {},
   "outputs": [],
   "source": [
    "# obtain VV relation\n",
    "def get_multi_pt_order(pt_list1, pt_list2, pt_list3):\n",
    "# get_multi_pt_index is used to obtain the adjacent vertexes index, including the vertex itself\n",
    "# pt_list1: partial adjacent vertex indexes of join result 1\n",
    "# pt_list2: partial adjacent vertex indexes of join result 2\n",
    "# pt_list3: partial adjacent vertex indexes of join result 3\n",
    "    pt_init = pt_list1 + pt_list2 + pt_list3\n",
    "    pt_set = set(pt_init)\n",
    "    \n",
    "    pt_list = sorted(pt_set) # sorted(pt_set, reverse=False), False in ascending order while True in descending order\n",
    "    \n",
    "    return pt_list # directly return a list, e.g., [0, 1, 5, 6], the length of returned column list will be 12, incluing \"[\" and empty char\n",
    "\n",
    "get_multi_pt_order_udf = udf(get_multi_pt_order, ArrayType(IntegerType()))"
   ]
  },
  {
   "cell_type": "code",
   "execution_count": 8,
   "id": "infrared-colon",
   "metadata": {},
   "outputs": [
    {
     "name": "stdout",
     "output_type": "stream",
     "text": [
      "root\n",
      " |-- Ver: integer (nullable = true)\n",
      " |-- VV: array (nullable = true)\n",
      " |    |-- element: integer (containsNull = true)\n",
      "\n"
     ]
    }
   ],
   "source": [
    "df_VV = df_VV_gp.withColumn(\"VV\", get_multi_pt_order_udf(df_VV_gp.multi_r2_set, df_VV_gp.multi_r3_set, df_VV_gp.multi_r4_set)).drop('multi_r2_set', 'multi_r3_set', 'multi_r4_set')\n",
    "\n",
    "df_VV = df_VV.withColumnRenamed('r1', 'Ver')\n",
    "\n",
    "df_VV.printSchema()"
   ]
  },
  {
   "cell_type": "code",
   "execution_count": 9,
   "id": "protective-revision",
   "metadata": {},
   "outputs": [
    {
     "name": "stdout",
     "output_type": "stream",
     "text": [
      "Time cost: 630.730774641037\n",
      "number of rows: 1792989718\n"
     ]
    }
   ],
   "source": [
    "t0 = time.time()\n",
    "\n",
    "num_row = df_VV.count()\n",
    "\n",
    "t1 = time.time()\n",
    "print(\"Time cost:\", t1 - t0)\n",
    "print(\"number of rows:\", num_row)"
   ]
  },
  {
   "cell_type": "markdown",
   "id": "august-observation",
   "metadata": {},
   "source": [
    "### Method 2: local method (get VV from VT)"
   ]
  },
  {
   "cell_type": "markdown",
   "id": "premier-validity",
   "metadata": {},
   "source": [
    "##### load the pre-computed VT relation"
   ]
  },
  {
   "cell_type": "code",
   "execution_count": 4,
   "id": "alpine-liver",
   "metadata": {},
   "outputs": [
    {
     "name": "stdout",
     "output_type": "stream",
     "text": [
      "root\n",
      " |-- Ver: integer (nullable = true)\n",
      " |-- VT: array (nullable = true)\n",
      " |    |-- element: array (containsNull = true)\n",
      " |    |    |-- element: integer (containsNull = true)\n",
      "\n"
     ]
    }
   ],
   "source": [
    "# read a parquet file from hdfs\n",
    "file_VT = directory + '/' + tin_filename + '_VT.parquet'\n",
    "\n",
    "df_VT = spark.read.parquet(file_VT)\n",
    "df_VT.printSchema()"
   ]
  },
  {
   "cell_type": "code",
   "execution_count": 6,
   "id": "surprising-chassis",
   "metadata": {},
   "outputs": [
    {
     "name": "stdout",
     "output_type": "stream",
     "text": [
      "Time cost: 15.129749536514282\n"
     ]
    }
   ],
   "source": [
    "t0 = time.time()\n",
    "\n",
    "num_row = df_VT.count()\n",
    "\n",
    "t1 = time.time()\n",
    "print(\"Time cost:\", t1 - t0)\n",
    "# print(\"number of rows:\", num_row)"
   ]
  },
  {
   "cell_type": "code",
   "execution_count": 7,
   "id": "minus-living",
   "metadata": {},
   "outputs": [],
   "source": [
    "# function to get VV from VT\n",
    "def get_VV_from_VT(r1, multi_tetra_list):\n",
    "# get_multi_pt_index is used to obtain the adjacent vertexes index, including the vertex itself\n",
    "\n",
    "    pt_set = set()\n",
    "    if len(multi_tetra_list) > 0:\n",
    "        for tetra in multi_tetra_list:\n",
    "            pt_set.update(tetra)\n",
    "    \n",
    "    pt_set.remove(r1)\n",
    "    pt_list = sorted(pt_set) # sorted(pt_set, reverse=False), False in ascending order while True in descending order\n",
    "    \n",
    "    return pt_list # directly return a list, e.g., [0, 1, 5, 6], the length of returned column list will be 12, incluing \"[\" and empty char\n",
    "\n",
    "get_VV_from_VT_udf = udf(get_VV_from_VT, ArrayType(IntegerType()))"
   ]
  },
  {
   "cell_type": "code",
   "execution_count": 8,
   "id": "provincial-daughter",
   "metadata": {},
   "outputs": [
    {
     "name": "stdout",
     "output_type": "stream",
     "text": [
      "root\n",
      " |-- Ver: integer (nullable = true)\n",
      " |-- VV: array (nullable = true)\n",
      " |    |-- element: integer (containsNull = true)\n",
      "\n"
     ]
    }
   ],
   "source": [
    "df_VV = df_VT.withColumn(\"VV\", get_VV_from_VT_udf(df_VT.Ver, df_VT.VT)).drop('VT')\n",
    "# df_VV = df_VV.withColumnRenamed('r1', 'Ver')\n",
    "\n",
    "df_VV.printSchema()"
   ]
  },
  {
   "cell_type": "code",
   "execution_count": 9,
   "id": "ultimate-communications",
   "metadata": {},
   "outputs": [
    {
     "name": "stdout",
     "output_type": "stream",
     "text": [
      "Time cost: 3.841904878616333\n"
     ]
    }
   ],
   "source": [
    "t0 = time.time()\n",
    "\n",
    "num_row = df_VV.count()\n",
    "# df_VV.show()\n",
    "\n",
    "t1 = time.time()\n",
    "print(\"Time cost:\", t1 - t0)\n",
    "# print(\"number of rows:\", num_row)"
   ]
  },
  {
   "cell_type": "code",
   "execution_count": 9,
   "id": "split-investigation",
   "metadata": {},
   "outputs": [
    {
     "name": "stdout",
     "output_type": "stream",
     "text": [
      "time cost: 137.3480360507965\n"
     ]
    }
   ],
   "source": [
    "t0 = time.time()\n",
    "\n",
    "file_VV = directory + '/' + tin_filename + '_VV.parquet'\n",
    "\n",
    "df_VV.write.parquet(file_VV)\n",
    "\n",
    "t1 = time.time()\n",
    "print(\"time cost:\", t1-t0)"
   ]
  },
  {
   "cell_type": "markdown",
   "id": "frank-graham",
   "metadata": {},
   "source": [
    "# obtain TT relation"
   ]
  },
  {
   "cell_type": "markdown",
   "id": "spiritual-caution",
   "metadata": {},
   "source": [
    "### Method 1: pure global"
   ]
  },
  {
   "cell_type": "code",
   "execution_count": 5,
   "id": "certified-manchester",
   "metadata": {},
   "outputs": [],
   "source": [
    "# function to get TF relation\n",
    "def get_TF_from_T(df_tetra_order):\n",
    "    df_TF = df_tetra_order.withColumn(\"tetra\", sort_array(F.array(\"r1\", \"r2\", \"r3\", \"r4\"), False)).withColumn(\"f1\", sort_array(F.array(\"r1\", \"r2\", \"r3\"), False)).withColumn(\"f2\", sort_array(F.array(\"r1\", \"r2\", \"r4\"), False)).withColumn(\"f3\", sort_array(F.array(\"r1\", \"r3\", \"r4\"), False)).withColumn(\"f4\", sort_array(F.array(\"r2\", \"r3\", \"r4\"), False))\n",
    "    df_TF = df_TF.select('tetra', 'f1', 'f2', 'f3', 'f4')\n",
    "    \n",
    "    return df_TF"
   ]
  },
  {
   "cell_type": "code",
   "execution_count": 6,
   "id": "cheap-modem",
   "metadata": {},
   "outputs": [
    {
     "name": "stdout",
     "output_type": "stream",
     "text": [
      "root\n",
      " |-- tetra: array (nullable = false)\n",
      " |    |-- element: integer (containsNull = true)\n",
      " |-- f1: array (nullable = false)\n",
      " |    |-- element: integer (containsNull = true)\n",
      " |-- f2: array (nullable = false)\n",
      " |    |-- element: integer (containsNull = true)\n",
      " |-- f3: array (nullable = false)\n",
      " |    |-- element: integer (containsNull = true)\n",
      " |-- f4: array (nullable = false)\n",
      " |    |-- element: integer (containsNull = true)\n",
      "\n"
     ]
    }
   ],
   "source": [
    "# df_TF.persist(StorageLevel.MEMORY_ONLY)\n",
    "\n",
    "df_TF = get_TF_from_T(df_tetra_order)\n",
    "\n",
    "df_TF.printSchema()"
   ]
  },
  {
   "cell_type": "code",
   "execution_count": 7,
   "id": "irish-future",
   "metadata": {},
   "outputs": [
    {
     "name": "stdout",
     "output_type": "stream",
     "text": [
      "root\n",
      " |-- Face: array (nullable = false)\n",
      " |    |-- element: integer (containsNull = true)\n",
      " |-- FT: array (nullable = true)\n",
      " |    |-- element: array (containsNull = true)\n",
      " |    |    |-- element: integer (containsNull = true)\n",
      "\n"
     ]
    }
   ],
   "source": [
    "df_FT_1 = df_TF.select('f1', 'tetra')\n",
    "df_FT_2 = df_TF.select('f2', 'tetra')\n",
    "df_FT_3 = df_TF.select('f3', 'tetra')\n",
    "df_FT_4 = df_TF.select('f4', 'tetra')\n",
    "\n",
    "df_FT_1234 = df_FT_1.union(df_FT_2).union(df_FT_3).union(df_FT_4)\n",
    "\n",
    "df_FT = df_FT_1234.groupBy('f1').agg(collect_set('tetra').alias('FT'))\n",
    "df_FT = df_FT.withColumnRenamed(\"f1\", \"Face\")\n",
    "df_FT.printSchema()"
   ]
  },
  {
   "cell_type": "code",
   "execution_count": 8,
   "id": "invalid-overall",
   "metadata": {},
   "outputs": [
    {
     "name": "stdout",
     "output_type": "stream",
     "text": [
      "root\n",
      " |-- Tetra: array (nullable = true)\n",
      " |    |-- element: integer (containsNull = true)\n",
      " |-- TT: array (nullable = true)\n",
      " |    |-- element: array (containsNull = true)\n",
      " |    |    |-- element: integer (containsNull = true)\n",
      "\n"
     ]
    }
   ],
   "source": [
    "# for boundary tetrahedron, its coboundary tetrahedron could be None\n",
    "df_TT_init = df_FT.select(df_FT.FT[0].alias('t1'), df_FT.FT[1].alias('t2'))\n",
    "\n",
    "df_TT_1 = df_TT_init.select('t1', 't2')\n",
    "df_TT_2 = df_TT_init.select('t2', 't1')\n",
    "\n",
    "df_TT_gp = df_TT_1.union(df_TT_2)\n",
    "df_TT_gp = df_TT_gp.groupby('t1').agg(collect_set('t2').alias('multi_t2')).na.drop(subset=[\"t1\"])\n",
    "                                      \n",
    "df_TT = df_TT_gp.withColumnRenamed(\"t1\", \"Tetra\").withColumnRenamed(\"multi_t2\", \"TT\")\n",
    "df_TT.printSchema()"
   ]
  },
  {
   "cell_type": "code",
   "execution_count": 9,
   "id": "spiritual-western",
   "metadata": {},
   "outputs": [
    {
     "name": "stdout",
     "output_type": "stream",
     "text": [
      "Time cost: 3963.778732061386\n",
      "number of rows: 9715202459\n"
     ]
    }
   ],
   "source": [
    "t0 = time.time()\n",
    "\n",
    "num_row = df_TT.count()\n",
    "\n",
    "t1 = time.time()\n",
    "print(\"Time cost:\", t1 - t0)\n",
    "print(\"number of rows:\", num_row)"
   ]
  },
  {
   "cell_type": "markdown",
   "id": "environmental-joshua",
   "metadata": {},
   "source": [
    "### Method 2: symmetric global (get TT from TF and FT)"
   ]
  },
  {
   "cell_type": "markdown",
   "id": "disciplinary-briefing",
   "metadata": {},
   "source": [
    "##### load the pre-computed TF relation"
   ]
  },
  {
   "cell_type": "code",
   "execution_count": 4,
   "id": "private-treatment",
   "metadata": {},
   "outputs": [
    {
     "name": "stdout",
     "output_type": "stream",
     "text": [
      "root\n",
      " |-- tetra: array (nullable = true)\n",
      " |    |-- element: integer (containsNull = true)\n",
      " |-- f1: array (nullable = true)\n",
      " |    |-- element: integer (containsNull = true)\n",
      " |-- f2: array (nullable = true)\n",
      " |    |-- element: integer (containsNull = true)\n",
      " |-- f3: array (nullable = true)\n",
      " |    |-- element: integer (containsNull = true)\n",
      " |-- f4: array (nullable = true)\n",
      " |    |-- element: integer (containsNull = true)\n",
      "\n"
     ]
    }
   ],
   "source": [
    "# read a parquet file from hdfs\n",
    "file_TF = directory + '/' + tin_filename + '_TF.parquet'\n",
    "\n",
    "df_TF = spark.read.parquet(file_TF)\n",
    "df_TF.printSchema()"
   ]
  },
  {
   "cell_type": "code",
   "execution_count": 5,
   "id": "unexpected-organic",
   "metadata": {},
   "outputs": [
    {
     "name": "stdout",
     "output_type": "stream",
     "text": [
      "Time cost: 21.21110224723816\n",
      "number of rows: 9715202480\n"
     ]
    }
   ],
   "source": [
    "t0 = time.time()\n",
    "\n",
    "num_row = df_TF.count()\n",
    "\n",
    "t1 = time.time()\n",
    "print(\"Time cost:\", t1 - t0)\n",
    "print(\"number of rows:\", num_row)"
   ]
  },
  {
   "cell_type": "markdown",
   "id": "embedded-hundred",
   "metadata": {},
   "source": [
    "##### load the pre-computed FT relation"
   ]
  },
  {
   "cell_type": "code",
   "execution_count": 6,
   "id": "accomplished-rugby",
   "metadata": {},
   "outputs": [
    {
     "name": "stdout",
     "output_type": "stream",
     "text": [
      "root\n",
      " |-- Face: array (nullable = true)\n",
      " |    |-- element: integer (containsNull = true)\n",
      " |-- FT: array (nullable = true)\n",
      " |    |-- element: array (containsNull = true)\n",
      " |    |    |-- element: integer (containsNull = true)\n",
      "\n"
     ]
    }
   ],
   "source": [
    "# read a parquet file from hdfs\n",
    "file_FT = directory + '/' + tin_filename + '_FT.parquet'\n",
    "\n",
    "df_FT = spark.read.parquet(file_FT)\n",
    "df_FT.printSchema()"
   ]
  },
  {
   "cell_type": "code",
   "execution_count": 7,
   "id": "undefined-george",
   "metadata": {},
   "outputs": [
    {
     "name": "stdout",
     "output_type": "stream",
     "text": [
      "Time cost: 10.226840734481812\n",
      "number of rows: 19434269798\n"
     ]
    }
   ],
   "source": [
    "t0 = time.time()\n",
    "\n",
    "num_row = df_FT.count()\n",
    "\n",
    "t1 = time.time()\n",
    "print(\"Time cost:\", t1 - t0)\n",
    "print(\"number of rows:\", num_row)"
   ]
  },
  {
   "cell_type": "code",
   "execution_count": 8,
   "id": "arctic-taste",
   "metadata": {},
   "outputs": [
    {
     "name": "stdout",
     "output_type": "stream",
     "text": [
      "root\n",
      " |-- tetra: array (nullable = true)\n",
      " |    |-- element: integer (containsNull = true)\n",
      " |-- TT_1: array (nullable = true)\n",
      " |    |-- element: array (containsNull = true)\n",
      " |    |    |-- element: integer (containsNull = true)\n",
      " |-- TT_2: array (nullable = true)\n",
      " |    |-- element: array (containsNull = true)\n",
      " |    |    |-- element: integer (containsNull = true)\n",
      " |-- TT_3: array (nullable = true)\n",
      " |    |-- element: array (containsNull = true)\n",
      " |    |    |-- element: integer (containsNull = true)\n",
      " |-- TT_4: array (nullable = true)\n",
      " |    |-- element: array (containsNull = true)\n",
      " |    |    |-- element: integer (containsNull = true)\n",
      "\n"
     ]
    }
   ],
   "source": [
    "df_TT_init_1 = df_TF.join(df_FT, df_TF.f1==df_FT.Face).select('tetra', col('FT').alias('TT_1'), 'f2', 'f3', 'f4')\n",
    "df_TT_init_2 = df_TT_init_1.join(df_FT, df_TT_init_1.f2==df_FT.Face).select('tetra', 'TT_1', col('FT').alias('TT_2'), 'f3', 'f4')\n",
    "df_TT_init_3 = df_TT_init_2.join(df_FT, df_TT_init_2.f3==df_FT.Face).select('tetra', 'TT_1', 'TT_2', col('FT').alias('TT_3'), 'f4')\n",
    "df_TT_init_4 = df_TT_init_3.join(df_FT, df_TT_init_3.f4==df_FT.Face).select('tetra', 'TT_1', 'TT_2', 'TT_3', col('FT').alias('TT_4'))\n",
    "\n",
    "df_TT_init_4.printSchema()"
   ]
  },
  {
   "cell_type": "code",
   "execution_count": 9,
   "id": "listed-comfort",
   "metadata": {},
   "outputs": [],
   "source": [
    "def get_TT_from_part_TT(tetra, TT_1, TT_2, TT_3, TT_4):\n",
    "    TT = set()\n",
    "    for t in TT_1:\n",
    "        TT.add(tuple(t))\n",
    "        \n",
    "    for t in TT_2:\n",
    "        TT.add(tuple(t))\n",
    "        \n",
    "    for t in TT_3:\n",
    "        TT.add(tuple(t))\n",
    "        \n",
    "    for t in TT_4:\n",
    "        TT.add(tuple(t))\n",
    "        \n",
    "    TT.remove(tuple(tetra))\n",
    "    TT_list = list(TT)\n",
    "    \n",
    "    return TT_list\n",
    "\n",
    "get_TT_from_part_TT_udf = udf(get_TT_from_part_TT, ArrayType(ArrayType(IntegerType())))"
   ]
  },
  {
   "cell_type": "code",
   "execution_count": 10,
   "id": "intense-african",
   "metadata": {},
   "outputs": [
    {
     "name": "stdout",
     "output_type": "stream",
     "text": [
      "root\n",
      " |-- Tetra: array (nullable = true)\n",
      " |    |-- element: integer (containsNull = true)\n",
      " |-- TT: array (nullable = true)\n",
      " |    |-- element: array (containsNull = true)\n",
      " |    |    |-- element: integer (containsNull = true)\n",
      "\n"
     ]
    }
   ],
   "source": [
    "df_TT = df_TT_init_4.withColumn('TT', get_TT_from_part_TT_udf(df_TT_init_4.tetra, df_TT_init_4.TT_1, df_TT_init_4.TT_2, df_TT_init_4.TT_3, df_TT_init_4.TT_4))\n",
    "df_TT = df_TT.select(col('tetra').alias('Tetra'), 'TT')\n",
    "df_TT.printSchema()"
   ]
  },
  {
   "cell_type": "code",
   "execution_count": 11,
   "id": "freelance-request",
   "metadata": {},
   "outputs": [
    {
     "name": "stdout",
     "output_type": "stream",
     "text": [
      "Time cost: 1244.881771326065\n",
      "number of rows: 9715202480\n"
     ]
    }
   ],
   "source": [
    "t0 = time.time()\n",
    "\n",
    "num_row = df_TT.count()\n",
    "\n",
    "t1 = time.time()\n",
    "print(\"Time cost:\", t1 - t0)\n",
    "print(\"number of rows:\", num_row)"
   ]
  },
  {
   "cell_type": "code",
   "execution_count": null,
   "id": "weird-causing",
   "metadata": {},
   "outputs": [],
   "source": []
  }
 ],
 "metadata": {
  "kernelspec": {
   "display_name": "Python 3",
   "language": "python",
   "name": "python3"
  },
  "language_info": {
   "codemirror_mode": {
    "name": "ipython",
    "version": 3
   },
   "file_extension": ".py",
   "mimetype": "text/x-python",
   "name": "python",
   "nbconvert_exporter": "python",
   "pygments_lexer": "ipython3",
   "version": "3.7.7"
  }
 },
 "nbformat": 4,
 "nbformat_minor": 5
}
