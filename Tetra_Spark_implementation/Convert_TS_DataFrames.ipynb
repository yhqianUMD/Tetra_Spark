{
 "cells": [
  {
   "cell_type": "code",
   "execution_count": 1,
   "id": "stupid-richardson",
   "metadata": {},
   "outputs": [],
   "source": [
    "import findspark\n",
    "import os\n",
    "import gc\n",
    "#findspark.init() \n",
    "SPARK_HOME='/opt/cloudera/parcels/CDH/lib/spark'\n",
    "findspark.init(SPARK_HOME)\n",
    "\n",
    "import time\n",
    "import math\n",
    "import copy\n",
    "import csv\n",
    "import json\n",
    "import os\n",
    "import codecs\n",
    "import subprocess\n",
    "import numpy as np\n",
    "from pyspark import SQLContext\n",
    "from pyspark.sql import Row\n",
    "from pyspark.sql import functions as F\n",
    "from pyspark.sql.functions import size, array_union,flatten,array_sort,coalesce,broadcast,collect_list, collect_set, udf, array_remove, log, lit, first, col, array, sort_array,split, explode, desc, asc, row_number,isnan, when, count\n",
    "from pyspark.sql.types import *\n",
    "import rtree\n",
    "from pyspark.sql import Window\n",
    "import geofeather\n",
    "from pyspark.storagelevel import StorageLevel\n",
    "\n",
    "from pyspark.sql import SparkSession\n",
    "from pyspark import StorageLevel\n",
    "import geopandas as gpd\n",
    "import pandas as pd\n",
    "from pyspark.sql.types import StructType, StructField, StringType, IntegerType, LongType, FloatType, ArrayType, MapType\n",
    "from shapely.geometry import Point\n",
    "from shapely.geometry import Polygon\n",
    "\n",
    "from sedona.register import SedonaRegistrator\n",
    "from sedona.core.SpatialRDD import SpatialRDD, PointRDD, CircleRDD, PolygonRDD, LineStringRDD\n",
    "from sedona.core.enums import FileDataSplitter\n",
    "from sedona.utils.adapter import Adapter\n",
    "from sedona.core.spatialOperator import KNNQuery\n",
    "from sedona.core.spatialOperator import JoinQuery\n",
    "from sedona.core.spatialOperator import JoinQueryRaw\n",
    "from sedona.core.spatialOperator import RangeQuery\n",
    "from sedona.core.spatialOperator import RangeQueryRaw\n",
    "from sedona.core.formatMapper.shapefileParser import ShapefileReader\n",
    "from sedona.core.formatMapper import WkbReader\n",
    "from sedona.core.formatMapper import WktReader\n",
    "from sedona.core.formatMapper import GeoJsonReader\n",
    "from sedona.sql.types import GeometryType\n",
    "from sedona.core.enums import GridType\n",
    "from sedona.core.SpatialRDD import RectangleRDD\n",
    "from sedona.core.enums import IndexType\n",
    "from sedona.core.geom.envelope import Envelope\n",
    "from sedona.utils import SedonaKryoRegistrator, KryoSerializer\n",
    "\n",
    "os.environ['PYSPARK_PYTHON'] = \"./environment/bin/python\"\n",
    "#os.environ['PYSPARK_PYTHON'] = \"/home/qiany/.conda/envs/py37/bin/python\"\n",
    "os.environ['YARN_CONF_DIR'] = \"/opt/cloudera/parcels/CDH/lib/spark/conf/yarn-conf\""
   ]
  },
  {
   "cell_type": "code",
   "execution_count": 2,
   "id": "devoted-clinic",
   "metadata": {},
   "outputs": [
    {
     "name": "stdin",
     "output_type": "stream",
     "text": [
      "Here is a programe to extract boundary relations, please input the absolute or relative path to your .ts file: /home/qiany/yuehui/pyspark/Tetra_mesh/data/NASA_tetra/Lander_huge.ts\n"
     ]
    },
    {
     "name": "stdout",
     "output_type": "stream",
     "text": [
      "\n",
      "********************\n",
      "tin_directory:  /home/qiany/yuehui/pyspark/Tetra_mesh/data/NASA_tetra\n"
     ]
    },
    {
     "name": "stdin",
     "output_type": "stream",
     "text": [
      "Is the data stored in hdfs(0) or Tri_data(1) or Tetra_data (2): 2\n"
     ]
    },
    {
     "name": "stdout",
     "output_type": "stream",
     "text": [
      "tin_basename:  Lander_huge.ts\n",
      "tin_filename:  Lander_huge\n",
      "tin_extension:  .ts\n",
      "\n",
      "********************\n",
      "This is a TIN file in \".ts\" format\n"
     ]
    },
    {
     "name": "stdin",
     "output_type": "stream",
     "text": [
      "spark.sql.shuffle.partitions: 1600\n"
     ]
    }
   ],
   "source": [
    "tin_file = input(\"Here is a programe to extract boundary relations, please input the absolute or relative path to your .ts file:\")\n",
    "\n",
    "# get the directory, basename of the input file\n",
    "print(\"\\n********************\")\n",
    "tin_directory = os.path.dirname(tin_file)\n",
    "print(\"tin_directory: \", tin_directory)\n",
    "\n",
    "directory_type = input(\"Is the data stored in hdfs(0) or Tri_data(1) or Tetra_data (2):\") or \"2\"\n",
    "\n",
    "if directory_type == '0':\n",
    "    directory = 'hdfs_data'\n",
    "elif directory_type == '1':\n",
    "    directory = 'Tri_data'\n",
    "else:\n",
    "    directory = 'Tetra_data'\n",
    "    \n",
    "tin_basename = os.path.basename(tin_file) # input_vertices_2.off\n",
    "print(\"tin_basename: \", tin_basename)\n",
    "\n",
    "tin_filename = os.path.splitext(tin_basename)[0] # input_vertices_2\n",
    "print(\"tin_filename: \", tin_filename)\n",
    "\n",
    "tin_extension = os.path.splitext(tin_basename)[1] # .off\n",
    "print(\"tin_extension: \", tin_extension)\n",
    "\n",
    "print(\"\\n********************\")\n",
    "print(\"This is a TIN file in \\\"%s\\\" format\" % tin_extension)\n",
    "\n",
    "filtra = 'yes'\n",
    "\n",
    "# allocate the number of executors, the number of cores per executor, and the amount of memory per executor\n",
    "Num_executor = '64'\n",
    "Num_core_per_executor = '5'\n",
    "Memory_executor = '64g'\n",
    "MemoryOverhead_executor = '8g'\n",
    "\n",
    "# allocate the number of cores for the driver node\n",
    "Num_core_per_driver = '5'\n",
    "Memory_driver = '64g'\n",
    "MemoryOverhead_driver = '32g'\n",
    "\n",
    "# the default number of shuffle partitions\n",
    "Num_shuffle_partitions = input(\"spark.sql.shuffle.partitions:\")"
   ]
  },
  {
   "cell_type": "code",
   "execution_count": 7,
   "id": "immediate-encoding",
   "metadata": {},
   "outputs": [
    {
     "name": "stdout",
     "output_type": "stream",
     "text": [
      "spark_app_name: Save_sorting_pts_sorting_tetra_Lander_big_06112024_2135\n"
     ]
    }
   ],
   "source": [
    "'''\n",
    "spark.executor.cores: # Number of concurrent tasks an executor can run, euqals to the number of cores to use on each executor\n",
    "spark.executor.instances: # Number of executors for the spark application\n",
    "spark.executor.memory: # Amount of memory to use for each executor that runs the task\n",
    "spark.executor.memoryOverhead:\n",
    "spark.driver.cores: # Number of cores to use for the driver process; the default number is 1\n",
    "spark.driver.memory: # Amount of memory to use for the driver\n",
    "spark.driver.maxResultSize: to define the maximum limit of the total size of the serialized result that a driver can store for each Spark collect action\n",
    "spark.default.parallelism: # Default number of partitions in RDDs returned by transformations like join, reduceByKey, and parallelize when not set by user. It can be set as spark.executor.instances * spark.executor.cores * 2\n",
    "spark.sql.shuffle.partitions: determine how many partitions are used when data is shuffled between nodes, e.g., joins or aggregations. usually 1~5 times of executor.instances * executor.cores\n",
    "spark.memory.storageFraction: determines the fraction of the heap space that is allocated to caching RDDs and DataFrames in memory.\n",
    "spark.kryoserializer.buffer.max: determine the maximum of data that can be serialized at once; this must be larger than any object we attempt to serialize\n",
    "spark.rpc.message.maxSize: # Maximum message size (in MiB) to allow in \"control plane\" communication; generally only applies to map output size information sent between executors and the driver. To communicate between the nodes, Spark uses a protocol called RPC (Remote Procedure Call), which sends messages back and forth. The spark.rpc.message.maxSize parameter limits how big these messages can be. \n",
    "spark.sql.broadcastTimeout: Spark will wait for this amount of time before giving up on broadcasting a table. Broadcasting can take a long time if the table is large or if there is a shuffle operation before it.\n",
    "spark.sql.autoBroadcastJoinThreshold: Spark will broadcast a table to all worker nodes when performing a join if its size is less than this value; -1 means disabling broadcasting\n",
    "'''\n",
    "\n",
    "date = time.strftime(\"%m,%d,%Y\")\n",
    "date_name = date.split(',')[0] + date.split(',')[1] + date.split(',')[2]\n",
    "\n",
    "hour = time.strftime(\"%H,%M\")\n",
    "hour_name = hour.split(',')[0] + hour.split(',')[1]\n",
    "\n",
    "# set the Spark app name\n",
    "spark_app_name = \"Convert_ts2csv_\" + tin_filename + '_' + date_name + '_' + hour_name\n",
    "print(\"spark_app_name:\", spark_app_name)\n",
    "\n",
    "spark = SparkSession \\\n",
    ".builder \\\n",
    ".appName(spark_app_name) \\\n",
    ".master('yarn') \\\n",
    ".config(\"spark.serializer\", KryoSerializer.getName) \\\n",
    ".config(\"spark.kryo.registrator\", SedonaKryoRegistrator.getName) \\\n",
    ".config('spark.jars','sedona-core-2.4_2.11-1.0.0-incubating.jar,sedona-sql-2.4_2.11-1.0.0-incubating.jar,sedona-python-adapter-2.4_2.11-1.0.0-incubating.jar,sedona-viz-2.4_2.11-1.0.0-incubating.jar,geotools-wrapper-geotools-24.0.jar,graphframes-0.8.0-spark2.4-s_2.11.jar') \\\n",
    ".config('spark.executor.cores', Num_core_per_executor) \\\n",
    ".config('spark.executor.instances', Num_executor) \\\n",
    ".config('spark.executor.memory', Memory_executor) \\\n",
    ".config('spark.executor.memoryOverhead', MemoryOverhead_executor) \\\n",
    ".config('spark.driver.cores', Num_core_per_driver) \\\n",
    ".config('spark.driver.memory', Memory_driver) \\\n",
    ".config('spark.driver.memoryOverhead', MemoryOverhead_driver) \\\n",
    ".config('spark.driver.maxResultSize', '0') \\\n",
    ".config('spark.dynamicAllocation.enabled', 'false') \\\n",
    ".config('spark.network.timeout', '10000001s') \\\n",
    ".config('spark.executor.heartbeatInterval', '10000000s') \\\n",
    ".config('spark.sql.shuffle.partitions', Num_shuffle_partitions) \\\n",
    ".config(\"spark.default.parallelism\", '200') \\\n",
    ".config(\"spark.kryoserializer.buffer.max\", \"1024mb\") \\\n",
    ".config('spark.rpc.message.maxSize', '256') \\\n",
    ".config(\"spark.sql.broadcastTimeout\", \"36000\") \\\n",
    ".config(\"spark.sql.autoBroadcastJoinThreshold\", \"-1\") \\\n",
    ".config(\"spark.python.profile\", \"true\") \\\n",
    ".config(\"spark.eventLog.enabled\", \"true\") \\\n",
    ".config('spark.yarn.dist.archives', '/local/data/yuehui/py37.tar.gz#environment') \\\n",
    ".getOrCreate()"
   ]
  },
  {
   "cell_type": "markdown",
   "id": "exact-heart",
   "metadata": {},
   "source": [
    "### read the TIN and save its vertices and triangles as csv files"
   ]
  },
  {
   "cell_type": "code",
   "execution_count": null,
   "id": "composed-christmas",
   "metadata": {},
   "outputs": [],
   "source": [
    "# process the TIN file in the format of .off\n",
    "t0 = time.time()\n",
    "\n",
    "url_pt_origin_csv = tin_directory + '/' + tin_filename + '_pts_origin.csv'\n",
    "url_tetra_origin_csv = tin_directory + '/' + tin_filename + '_tetra_origin.csv'\n",
    "\n",
    "if tin_extension == '.ts':\n",
    "    with open(tin_file) as infile:\n",
    "        # first line stores the number of vertices and tetrahedra\n",
    "        line = (infile.readline()).split()\n",
    "        vertices_num = int(line[0])\n",
    "        tetra_num = int(line[1])\n",
    "        print(\"vnum: {}, tnum:{}\".format(vertices_num, tetra_num))\n",
    "        with open(url_pt_origin_csv, 'w', newline='') as ofs_pts:\n",
    "            writer = csv.writer(ofs_pts)\n",
    "            for l in range(vertices_num):\n",
    "                line = infile.readline().split()\n",
    "                v = [float(line[0]),float(line[1]),float(line[2]),float(line[3]),l] # x,y,ele,self_index\n",
    "                writer.writerow(v)\n",
    "            ofs_pts.close()\n",
    "            \n",
    "        with open(url_tetra_origin_csv, 'w', newline='') as ofs_tetra:\n",
    "            writer = csv.writer(ofs_tetra)\n",
    "            tetra_order = 0\n",
    "            for l in range(tetra_num):\n",
    "                line = infile.readline().split()\n",
    "                # in an off file, it is \"3 235 32 532\"\n",
    "                tetrahedron = [int(line[0]),int(line[1]),int(line[2]),int(line[3]), tetra_order]        \n",
    "                writer.writerow(tetrahedron)\n",
    "                tetra_order += 1\n",
    "            ofs_tetra.close()    \n",
    "        infile.close()\n",
    "    \n",
    "t1 = time.time()\n",
    "print(\"time cost:\", t1-t0)"
   ]
  },
  {
   "cell_type": "markdown",
   "id": "timely-pocket",
   "metadata": {},
   "source": [
    "### sort the vertices of a mesh and get its filtration"
   ]
  },
  {
   "cell_type": "code",
   "execution_count": 11,
   "id": "motivated-sending",
   "metadata": {},
   "outputs": [
    {
     "name": "stdout",
     "output_type": "stream",
     "text": [
      "root\n",
      " |-- x: float (nullable = true)\n",
      " |-- y: float (nullable = true)\n",
      " |-- z: float (nullable = true)\n",
      " |-- ele: float (nullable = true)\n",
      " |-- self_index: integer (nullable = true)\n",
      " |-- self_order: integer (nullable = true)\n",
      "\n"
     ]
    }
   ],
   "source": [
    "# StructType is a collection of StructField’s which is used to define the column name, data type, and a flag for nullable or not.\n",
    "# StructType: https://sparkbyexamples.com/pyspark/pyspark-sql-types-datatype-with-examples/\n",
    "schema_ver_origin = StructType([ \\\n",
    "    StructField(\"x\",FloatType(),True), \\\n",
    "    StructField(\"y\",FloatType(),True), \\\n",
    "    StructField(\"z\",FloatType(),True), \\\n",
    "    StructField(\"ele\",FloatType(),True), \\\n",
    "    StructField(\"self_index\",IntegerType(),True) \\\n",
    "  ])\n",
    "\n",
    "hdfs_tin_pts_origin = directory + \"/\" + tin_filename + '_pts_origin.csv'\n",
    "\n",
    "df_ver_origin = spark.read.format(\"csv\") \\\n",
    "      .option(\"header\", False) \\\n",
    "      .schema(schema_ver_origin)\\\n",
    "      .load(hdfs_tin_pts_origin)\n",
    "\n",
    "w = Window().orderBy(col('ele').asc())\n",
    "df_ver_order = df_ver_origin.withColumn(\"self_order\", F.row_number().over(w) -1) # let the row number start from 0\n",
    "df_ver_order.printSchema()\n",
    "# df_ver_order.show(5)"
   ]
  },
  {
   "cell_type": "markdown",
   "id": "genuine-nudist",
   "metadata": {},
   "source": [
    "### write the DataFrame to HDFS"
   ]
  },
  {
   "cell_type": "code",
   "execution_count": 12,
   "id": "proved-myanmar",
   "metadata": {},
   "outputs": [
    {
     "name": "stdout",
     "output_type": "stream",
     "text": [
      "time cost: 4982.514730453491\n"
     ]
    }
   ],
   "source": [
    "t0 = time.time()\n",
    "\n",
    "hdfs_tin_pts_filtra = directory + \"/\" + tin_filename + '_filtra_pts_sort.csv'\n",
    "# df_ver_order.write.options(header='False', delimiter=',').csv(\"hdfs_data/sin_sum_VET_graph_node\")\n",
    "df_ver_order.write.csv(hdfs_tin_pts_filtra)\n",
    "\n",
    "t1 = time.time()\n",
    "print(\"time cost:\", t1-t0)"
   ]
  },
  {
   "cell_type": "code",
   "execution_count": 15,
   "id": "conservative-winner",
   "metadata": {},
   "outputs": [],
   "source": [
    "# read_tetra_order() is a function used to read tetrahedron from a csv file\n",
    "def read_tetra_order(directory, tin_filename):    \n",
    "    '''\n",
    "    this function has two input parameters.\n",
    "    filtra: 'yes' or 'no', yes means that the input csv file is ordered by default\n",
    "    directory: a string denoting the directory to a tetrahedra file\n",
    "    tin_filename: a string denoting the file name of a tetrahedra extension, e.g., 827_monviso\n",
    "    '''\n",
    "    hdfs_tin_tetra_origin = directory + \"/\" + tin_filename + '_tetra_origin.csv'\n",
    "        \n",
    "    schema_tetra_origin = StructType([ \\\n",
    "        StructField(\"v1\",IntegerType(),True), \\\n",
    "        StructField(\"v2\",IntegerType(),True), \\\n",
    "        StructField(\"v3\",IntegerType(),True), \\\n",
    "        StructField(\"v4\",IntegerType(),True)\n",
    "      ])\n",
    "\n",
    "    df_tetra_origin = spark.read.format(\"csv\") \\\n",
    "          .option(\"header\", False) \\\n",
    "          .schema(schema_tetra_origin)\\\n",
    "          .load(hdfs_tin_tetra_origin)\n",
    "    print(\"Number of partitions for df_tetra_origin:\", df_tetra_origin.rdd.getNumPartitions())\n",
    "        \n",
    "    return df_tetra_origin"
   ]
  },
  {
   "cell_type": "code",
   "execution_count": 16,
   "id": "biological-howard",
   "metadata": {},
   "outputs": [
    {
     "name": "stdout",
     "output_type": "stream",
     "text": [
      "Number of partitions for df_tetra_origin: 3031\n",
      "root\n",
      " |-- v1: integer (nullable = true)\n",
      " |-- v2: integer (nullable = true)\n",
      " |-- v3: integer (nullable = true)\n",
      " |-- v4: integer (nullable = true)\n",
      "\n"
     ]
    }
   ],
   "source": [
    "# read tetrahedra\n",
    "df_tetra_origin = read_tetra_order(directory, tin_filename)\n",
    "df_tetra_origin.printSchema()"
   ]
  },
  {
   "cell_type": "code",
   "execution_count": 17,
   "id": "cleared-compensation",
   "metadata": {},
   "outputs": [],
   "source": [
    "# replace_ver() replaces the original index of each vertex with filtra value in df_tetra_origin\n",
    "def replace_ver(df_ver_order, df_tetra_origin):\n",
    "    '''\n",
    "    df_ver_order: a DataFrame storing sorted vertices with filtra values\n",
    "    df_tetra_origin: a DataFrame storing triangles from a TIN\n",
    "    '''\n",
    "    df_tetra_order_v1 = df_tetra_origin.join(df_ver_order, df_tetra_origin.v1 == df_ver_order.self_index, \"inner\")\n",
    "    df_tetra_order_v1 = df_tetra_order_v1.select(col(\"v1\"), col(\"v2\"), col(\"v3\"), col(\"v4\"),col(\"self_order\").alias(\"r1\"), col(\"ele\").alias(\"r1_ele\"))\n",
    "\n",
    "    df_tetra_order_v2 = df_tetra_order_v1.join(df_ver_order, df_tetra_order_v1.v2 == df_ver_order.self_index, \"inner\")\n",
    "    df_tetra_order_v2 = df_tetra_order_v2.select(col(\"v1\"), col(\"v2\"), col(\"v3\"), col(\"v4\"),col(\"r1\"), col(\"self_order\").alias(\"r2\"), col(\"r1_ele\"), col(\"ele\").alias(\"r2_ele\"))\n",
    "\n",
    "    df_tetra_order_v3 = df_tetra_order_v2.join(df_ver_order, df_tetra_order_v2.v3 == df_ver_order.self_index, \"inner\")\n",
    "    df_tetra_order_v3 = df_tetra_order_v3.select(col(\"v1\"), col(\"v2\"), col(\"v3\"), col(\"v4\"),col(\"r1\"), col(\"r2\"), col(\"self_order\").alias(\"r3\"), col(\"r1_ele\"), col(\"r2_ele\"), col(\"ele\").alias(\"r3_ele\"))\n",
    "\n",
    "    df_tetra_order_v4 = df_tetra_order_v3.join(df_ver_order, df_tetra_order_v3.v4 == df_ver_order.self_index, \"inner\")\n",
    "    df_tetra_order_v4 = df_tetra_order_v4.select(col(\"v1\"), col(\"v2\"), col(\"v3\"), col(\"v4\"),col(\"r1\"), col(\"r2\"), col(\"r3\"),col(\"self_order\").alias(\"r4\"), col(\"r1_ele\"), col(\"r2_ele\"), col(\"r3_ele\"),col(\"ele\").alias(\"r4_ele\"))\n",
    "\n",
    "    df_tetra_order = df_tetra_order_v4.select(col(\"r1\"), col(\"r2\"), col(\"r3\"), col(\"r4\"), col(\"r1_ele\"), col(\"r2_ele\"), col(\"r3_ele\"), col(\"r4_ele\"))\n",
    "\n",
    "    return df_tetra_order"
   ]
  },
  {
   "cell_type": "code",
   "execution_count": 18,
   "id": "guided-advertising",
   "metadata": {},
   "outputs": [
    {
     "name": "stdout",
     "output_type": "stream",
     "text": [
      "root\n",
      " |-- r1: integer (nullable = true)\n",
      " |-- r2: integer (nullable = true)\n",
      " |-- r3: integer (nullable = true)\n",
      " |-- r4: integer (nullable = true)\n",
      " |-- r1_ele: float (nullable = true)\n",
      " |-- r2_ele: float (nullable = true)\n",
      " |-- r3_ele: float (nullable = true)\n",
      " |-- r4_ele: float (nullable = true)\n",
      "\n"
     ]
    }
   ],
   "source": [
    "# replaces original vertex index with filtra values\n",
    "df_tetra_order = replace_ver(df_ver_order, df_tetra_origin)\n",
    "df_tetra_order.printSchema()"
   ]
  },
  {
   "cell_type": "code",
   "execution_count": 19,
   "id": "physical-berkeley",
   "metadata": {},
   "outputs": [
    {
     "name": "stdout",
     "output_type": "stream",
     "text": [
      "time cost: 3799.469979763031\n"
     ]
    }
   ],
   "source": [
    "t0 = time.time()\n",
    "\n",
    "hdfs_tin_tetra_filtra = directory + \"/\" + tin_filename + '_filtra_tetra_sort.csv'\n",
    "# df_ver_order.write.options(header='False', delimiter=',').csv(\"hdfs_data/sin_sum_VET_graph_node\")\n",
    "df_tetra_order.write.csv(hdfs_tin_tetra_filtra)\n",
    "\n",
    "t1 = time.time()\n",
    "print(\"time cost:\", t1-t0)"
   ]
  }
 ],
 "metadata": {
  "kernelspec": {
   "display_name": "Python 3",
   "language": "python",
   "name": "python3"
  },
  "language_info": {
   "codemirror_mode": {
    "name": "ipython",
    "version": 3
   },
   "file_extension": ".py",
   "mimetype": "text/x-python",
   "name": "python",
   "nbconvert_exporter": "python",
   "pygments_lexer": "ipython3",
   "version": "3.7.7"
  }
 },
 "nbformat": 4,
 "nbformat_minor": 5
}
