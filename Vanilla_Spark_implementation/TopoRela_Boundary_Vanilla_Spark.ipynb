{
 "cells": [
  {
   "cell_type": "code",
   "execution_count": 1,
   "id": "overall-nicaragua",
   "metadata": {},
   "outputs": [],
   "source": [
    "import findspark\n",
    "import os\n",
    "import gc\n",
    "#findspark.init() \n",
    "SPARK_HOME='/opt/cloudera/parcels/CDH/lib/spark'\n",
    "findspark.init(SPARK_HOME)\n",
    "\n",
    "import time\n",
    "import math\n",
    "import copy\n",
    "import csv\n",
    "import json\n",
    "import os\n",
    "import codecs\n",
    "import subprocess\n",
    "import numpy as np\n",
    "from pyspark import SQLContext\n",
    "from pyspark.sql import Row\n",
    "from pyspark.sql import functions as F\n",
    "from pyspark.sql.functions import size, array_union,flatten,array_sort,coalesce,broadcast,collect_list, collect_set, udf, array_remove, log, lit, first, col, array, sort_array,split, explode, desc, asc, row_number,isnan, when, count\n",
    "from pyspark.sql.types import *\n",
    "import rtree\n",
    "from pyspark.sql import Window\n",
    "import geofeather\n",
    "from pyspark.storagelevel import StorageLevel\n",
    "\n",
    "from pyspark.sql import SparkSession\n",
    "from pyspark import StorageLevel\n",
    "import geopandas as gpd\n",
    "import pandas as pd\n",
    "from pyspark.sql.types import StructType, StructField, StringType, IntegerType, LongType, FloatType, ArrayType, MapType\n",
    "from shapely.geometry import Point\n",
    "from shapely.geometry import Polygon\n",
    "\n",
    "from sedona.register import SedonaRegistrator\n",
    "from sedona.core.SpatialRDD import SpatialRDD, PointRDD, CircleRDD, PolygonRDD, LineStringRDD\n",
    "from sedona.core.enums import FileDataSplitter\n",
    "from sedona.utils.adapter import Adapter\n",
    "from sedona.core.spatialOperator import KNNQuery\n",
    "from sedona.core.spatialOperator import JoinQuery\n",
    "from sedona.core.spatialOperator import JoinQueryRaw\n",
    "from sedona.core.spatialOperator import RangeQuery\n",
    "from sedona.core.spatialOperator import RangeQueryRaw\n",
    "from sedona.core.formatMapper.shapefileParser import ShapefileReader\n",
    "from sedona.core.formatMapper import WkbReader\n",
    "from sedona.core.formatMapper import WktReader\n",
    "from sedona.core.formatMapper import GeoJsonReader\n",
    "from sedona.sql.types import GeometryType\n",
    "from sedona.core.enums import GridType\n",
    "from sedona.core.SpatialRDD import RectangleRDD\n",
    "from sedona.core.enums import IndexType\n",
    "from sedona.core.geom.envelope import Envelope\n",
    "from sedona.utils import SedonaKryoRegistrator, KryoSerializer\n",
    "\n",
    "os.environ['PYSPARK_PYTHON'] = \"./environment/bin/python\"\n",
    "#os.environ['PYSPARK_PYTHON'] = \"/home/qiany/.conda/envs/py37/bin/python\"\n",
    "os.environ['YARN_CONF_DIR'] = \"/opt/cloudera/parcels/CDH/lib/spark/conf/yarn-conf\""
   ]
  },
  {
   "cell_type": "code",
   "execution_count": 2,
   "id": "exterior-warrant",
   "metadata": {},
   "outputs": [
    {
     "name": "stdout",
     "output_type": "stream",
     "text": [
      "\n",
      "********************\n",
      "tin_directory:  /home/qiany/yuehui/pyspark/Tetra_mesh/data\n",
      "tin_basename:  Lander_small.ts\n",
      "tin_filename:  Lander_small\n",
      "tin_extension:  .ts\n",
      "\n",
      "********************\n",
      "This is a TIN file in \".ts\" format\n"
     ]
    }
   ],
   "source": [
    "tin_file = input(\"Here is a programe to extract boundary relations, please input the absolute or relative path to your .ts file:\")\n",
    "\n",
    "# get the directory, basename of the input file\n",
    "print(\"\\n********************\")\n",
    "tin_directory = os.path.dirname(tin_file)\n",
    "print(\"tin_directory: \", tin_directory)\n",
    "\n",
    "directory_type = input(\"Is the data stored in hdfs(0) or Tri_data(1) or Tetra_data (2):\") or \"2\"\n",
    "\n",
    "if directory_type == '0':\n",
    "    directory = 'hdfs_data'\n",
    "elif directory_type == '1':\n",
    "    directory = 'Tri_data'\n",
    "else:\n",
    "    directory = 'Tetra_data'\n",
    "    \n",
    "tin_basename = os.path.basename(tin_file) # input_vertices_2.off\n",
    "print(\"tin_basename: \", tin_basename)\n",
    "\n",
    "tin_filename = os.path.splitext(tin_basename)[0] # input_vertices_2\n",
    "print(\"tin_filename: \", tin_filename)\n",
    "\n",
    "tin_extension = os.path.splitext(tin_basename)[1] # .off\n",
    "print(\"tin_extension: \", tin_extension)\n",
    "\n",
    "print(\"\\n********************\")\n",
    "print(\"This is a TIN file in \\\"%s\\\" format\" % tin_extension)\n",
    "\n",
    "filtra = 'yes'\n",
    "\n",
    "# allocate the number of executors, the number of cores per executor, and the amount of memory per executor\n",
    "Num_executor = '64'\n",
    "Num_core_per_executor = '5'\n",
    "Memory_executor = '64g'\n",
    "MemoryOverhead_executor = '8g'\n",
    "\n",
    "# allocate the number of cores for the driver node\n",
    "Num_core_per_driver = '5'\n",
    "Memory_driver = '64g'\n",
    "MemoryOverhead_driver = '32g'\n",
    "\n",
    "# the default number of shuffle partitions\n",
    "Num_shuffle_partitions = input(\"spark.sql.shuffle.partitions:\")"
   ]
  },
  {
   "cell_type": "code",
   "execution_count": 3,
   "id": "nominated-denver",
   "metadata": {},
   "outputs": [
    {
     "name": "stdin",
     "output_type": "stream",
     "text": [
      "What kind of connectivity relation do you want to retrieve? TV\n"
     ]
    },
    {
     "name": "stdout",
     "output_type": "stream",
     "text": [
      "spark_app_name: TopoRela_Boundary_TetraMesh_Lander_small_06192024_0126_TV\n"
     ]
    }
   ],
   "source": [
    "'''\n",
    "spark.executor.cores: # Number of concurrent tasks an executor can run, euqals to the number of cores to use on each executor\n",
    "spark.executor.instances: # Number of executors for the spark application\n",
    "spark.executor.memory: # Amount of memory to use for each executor that runs the task\n",
    "spark.executor.memoryOverhead:\n",
    "spark.driver.cores: # Number of cores to use for the driver process; the default number is 1\n",
    "spark.driver.memory: # Amount of memory to use for the driver\n",
    "spark.driver.maxResultSize: to define the maximum limit of the total size of the serialized result that a driver can store for each Spark collect action\n",
    "spark.default.parallelism: # Default number of partitions in RDDs returned by transformations like join, reduceByKey, and parallelize when not set by user. It can be set as spark.executor.instances * spark.executor.cores * 2\n",
    "spark.sql.shuffle.partitions: determine how many partitions are used when data is shuffled between nodes, e.g., joins or aggregations. usually 1~5 times of executor.instances * executor.cores\n",
    "spark.memory.storageFraction: determines the fraction of the heap space that is allocated to caching RDDs and DataFrames in memory.\n",
    "spark.kryoserializer.buffer.max: determine the maximum of data that can be serialized at once; this must be larger than any object we attempt to serialize\n",
    "spark.rpc.message.maxSize: # Maximum message size (in MiB) to allow in \"control plane\" communication; generally only applies to map output size information sent between executors and the driver. To communicate between the nodes, Spark uses a protocol called RPC (Remote Procedure Call), which sends messages back and forth. The spark.rpc.message.maxSize parameter limits how big these messages can be. \n",
    "spark.sql.broadcastTimeout: Spark will wait for this amount of time before giving up on broadcasting a table. Broadcasting can take a long time if the table is large or if there is a shuffle operation before it.\n",
    "spark.sql.autoBroadcastJoinThreshold: Spark will broadcast a table to all worker nodes when performing a join if its size is less than this value; -1 means disabling broadcasting\n",
    "'''\n",
    "\n",
    "date = time.strftime(\"%m,%d,%Y\")\n",
    "date_name = date.split(',')[0] + date.split(',')[1] + date.split(',')[2]\n",
    "\n",
    "hour = time.strftime(\"%H,%M\")\n",
    "hour_name = hour.split(',')[0] + hour.split(',')[1]\n",
    "\n",
    "Topo = input(\"What kind of connectivity relation do you want to retrieve?\")\n",
    "\n",
    "spark_app_name = \"TopoRela_Boundary_TetraMesh_\" + tin_filename + '_' + date_name + '_' + hour_name + '_' + Topo\n",
    "print(\"spark_app_name:\", spark_app_name)\n",
    "\n",
    "spark = SparkSession \\\n",
    ".builder \\\n",
    ".appName(spark_app_name) \\\n",
    ".master('yarn') \\\n",
    ".config(\"spark.serializer\", KryoSerializer.getName) \\\n",
    ".config('spark.jars','sedona-core-2.4_2.11-1.0.0-incubating.jar,sedona-sql-2.4_2.11-1.0.0-incubating.jar,sedona-python-adapter-2.4_2.11-1.0.0-incubating.jar,sedona-viz-2.4_2.11-1.0.0-incubating.jar,geotools-wrapper-geotools-24.0.jar,graphframes-0.8.0-spark2.4-s_2.11.jar') \\\n",
    ".config('spark.executor.cores', Num_core_per_executor) \\\n",
    ".config('spark.executor.instances', Num_executor) \\\n",
    ".config('spark.executor.memory', Memory_executor) \\\n",
    ".config('spark.executor.memoryOverhead', MemoryOverhead_executor) \\\n",
    ".config('spark.driver.cores', Num_core_per_driver) \\\n",
    ".config('spark.driver.memory', Memory_driver) \\\n",
    ".config('spark.driver.memoryOverhead', MemoryOverhead_driver) \\\n",
    ".config('spark.driver.maxResultSize', '0') \\\n",
    ".config('spark.dynamicAllocation.enabled', 'false') \\\n",
    ".config('spark.network.timeout', '10000001s') \\\n",
    ".config('spark.executor.heartbeatInterval', '10000000s') \\\n",
    ".config('spark.sql.shuffle.partitions', Num_shuffle_partitions) \\\n",
    ".config(\"spark.default.parallelism\", '400') \\\n",
    ".config(\"spark.kryoserializer.buffer.max\", \"1024mb\") \\\n",
    ".config('spark.rpc.message.maxSize', '256') \\\n",
    ".config(\"spark.sql.broadcastTimeout\", \"36000\") \\\n",
    ".config(\"spark.sql.autoBroadcastJoinThreshold\", \"-1\") \\\n",
    ".config(\"spark.sql.objectHashAggregate.sortBased.fallbackThreshold\", \"-1\") \\\n",
    ".config('spark.yarn.dist.archives', '/local/data/yuehui/py37.tar.gz#environment') \\\n",
    ".config(\"spark.python.profile\", \"true\") \\\n",
    ".config(\"spark.eventLog.enabled\", \"true\") \\\n",
    ".config(\"spark.eventLog.logStageExecutorMetrics\", \"true\") \\\n",
    ".getOrCreate()"
   ]
  },
  {
   "cell_type": "markdown",
   "id": "dutch-cabinet",
   "metadata": {},
   "source": [
    "### read input files"
   ]
  },
  {
   "cell_type": "code",
   "execution_count": 4,
   "id": "worse-hospital",
   "metadata": {},
   "outputs": [
    {
     "name": "stdout",
     "output_type": "stream",
     "text": [
      "Number of partitions for df_tetra_origin: 800\n",
      "root\n",
      " |-- tetra_order: integer (nullable = true)\n",
      " |-- r1: integer (nullable = true)\n",
      " |-- r2: integer (nullable = true)\n",
      " |-- r3: integer (nullable = true)\n",
      " |-- r4: integer (nullable = true)\n",
      " |-- r1_ele: float (nullable = true)\n",
      " |-- r2_ele: float (nullable = true)\n",
      " |-- r3_ele: float (nullable = true)\n",
      " |-- r4_ele: float (nullable = true)\n",
      "\n"
     ]
    }
   ],
   "source": [
    "# read_tetra_order() is a function used to read tetrahedron from a csv file\n",
    "def read_tetra_order(hdfs_tetra_origin):\n",
    "    '''\n",
    "    this function has two input parameters.\n",
    "    filtra: 'yes' or 'no', yes means that the input csv file is ordered by default\n",
    "    directory: a string denoting the directory to a tetrahedra file\n",
    "    tin_filename: a string denoting the file name of a tetrahedra extension, e.g., 827_monviso\n",
    "    '''\n",
    "        \n",
    "    schema_tetra_origin = StructType([ \\\n",
    "        StructField(\"tetra_order\",IntegerType(),True), \\\n",
    "        StructField(\"r1\",IntegerType(),True), \\\n",
    "        StructField(\"r2\",IntegerType(),True), \\\n",
    "        StructField(\"r3\",IntegerType(),True), \\\n",
    "        StructField(\"r4\",IntegerType(),True), \\\n",
    "        StructField(\"r1_ele\",FloatType(),True), \\\n",
    "        StructField(\"r2_ele\",FloatType(),True), \\\n",
    "        StructField(\"r3_ele\",FloatType(),True), \\\n",
    "        StructField(\"r4_ele\",FloatType(),True) \\\n",
    "      ])\n",
    "\n",
    "    df_tetra_origin = spark.read.format(\"csv\") \\\n",
    "          .option(\"header\", False) \\\n",
    "          .schema(schema_tetra_origin)\\\n",
    "          .load(hdfs_tetra_origin)\n",
    "        \n",
    "    return df_tetra_origin\n",
    "\n",
    "\n",
    "# read tetrahedra\n",
    "hdfs_tetra_origin = directory + \"/\" + tin_filename + '_filtra_tetra_sort.csv'\n",
    "\n",
    "df_tetra_order = read_tetra_order(hdfs_tetra_origin)\n",
    "df_tetra_order.printSchema()"
   ]
  },
  {
   "cell_type": "markdown",
   "id": "reliable-dragon",
   "metadata": {},
   "source": [
    "# compute TV relation"
   ]
  },
  {
   "cell_type": "markdown",
   "id": "contemporary-argentina",
   "metadata": {},
   "source": [
    "### Method: local method"
   ]
  },
  {
   "cell_type": "code",
   "execution_count": 5,
   "id": "unlikely-listing",
   "metadata": {},
   "outputs": [],
   "source": [
    "# function to get TV relation\n",
    "def get_TV(df_tetra_order):\n",
    "    df_TV = df_tetra_order.withColumn(\"tetra\", sort_array(F.array(\"r1\", \"r2\", \"r3\", \"r4\"), False))\n",
    "    df_TV = df_TV.select('tetra', 'r1', 'r2', 'r3', 'r4')\n",
    "    \n",
    "    return df_TV"
   ]
  },
  {
   "cell_type": "code",
   "execution_count": 6,
   "id": "flexible-dress",
   "metadata": {},
   "outputs": [
    {
     "name": "stdout",
     "output_type": "stream",
     "text": [
      "root\n",
      " |-- tetra: array (nullable = false)\n",
      " |    |-- element: integer (containsNull = true)\n",
      " |-- r1: integer (nullable = true)\n",
      " |-- r2: integer (nullable = true)\n",
      " |-- r3: integer (nullable = true)\n",
      " |-- r4: integer (nullable = true)\n",
      "\n"
     ]
    }
   ],
   "source": [
    "# df_tetra_order.persist(StorageLevel.MEMORY_ONLY)\n",
    "\n",
    "df_TV = get_TV(df_tetra_order)\n",
    "\n",
    "df_TV.printSchema()"
   ]
  },
  {
   "cell_type": "code",
   "execution_count": 7,
   "id": "agreed-crowd",
   "metadata": {},
   "outputs": [
    {
     "name": "stdout",
     "output_type": "stream",
     "text": [
      "Time cost: 45.27763533592224\n",
      "number of rows: 1214424036\n"
     ]
    }
   ],
   "source": [
    "t0 = time.time()\n",
    "\n",
    "num_row = df_TV.count()\n",
    "\n",
    "t1 = time.time()\n",
    "print(\"Time cost:\", t1 - t0)\n",
    "print(\"number of rows:\", num_row)"
   ]
  },
  {
   "cell_type": "code",
   "execution_count": 8,
   "id": "sitting-solomon",
   "metadata": {},
   "outputs": [
    {
     "name": "stdout",
     "output_type": "stream",
     "text": [
      "time cost: 57.211012840270996\n"
     ]
    }
   ],
   "source": [
    "t0 = time.time()\n",
    "\n",
    "file_TV = directory + '/' + tin_filename + '_TV.parquet'\n",
    "\n",
    "df_TV.write.parquet(file_TV)\n",
    "\n",
    "t1 = time.time()\n",
    "print(\"time cost:\", t1-t0)"
   ]
  },
  {
   "cell_type": "markdown",
   "id": "excited-retro",
   "metadata": {},
   "source": [
    "# compute TE relation"
   ]
  },
  {
   "cell_type": "markdown",
   "id": "numeric-hearing",
   "metadata": {},
   "source": [
    "### Method: local method"
   ]
  },
  {
   "cell_type": "code",
   "execution_count": 5,
   "id": "modern-oasis",
   "metadata": {},
   "outputs": [],
   "source": [
    "# function to get TE relation\n",
    "def get_TE_from_T(df_tetra_order):\n",
    "    df_TE = df_tetra_order.withColumn(\"tetra\", sort_array(F.array(\"r1\", \"r2\", \"r3\", \"r4\"), False)).withColumn(\"e1\", sort_array(F.array(\"r1\", \"r2\",), False)).withColumn(\"e2\", sort_array(F.array(\"r1\", \"r3\",), False)).withColumn(\"e3\", sort_array(F.array(\"r1\", \"r4\",), False)).withColumn(\"e4\", sort_array(F.array(\"r2\", \"r3\",), False)).withColumn(\"e5\", sort_array(F.array(\"r2\", \"r4\",), False)).withColumn(\"e6\", sort_array(F.array(\"r3\", \"r4\",), False))\n",
    "    df_TE = df_TE.select('tetra', 'e1', 'e2', 'e3', 'e4', 'e5', 'e6')\n",
    "    \n",
    "    return df_TE"
   ]
  },
  {
   "cell_type": "code",
   "execution_count": 6,
   "id": "noticed-olive",
   "metadata": {},
   "outputs": [
    {
     "name": "stdout",
     "output_type": "stream",
     "text": [
      "root\n",
      " |-- tetra: array (nullable = false)\n",
      " |    |-- element: integer (containsNull = true)\n",
      " |-- e1: array (nullable = false)\n",
      " |    |-- element: integer (containsNull = true)\n",
      " |-- e2: array (nullable = false)\n",
      " |    |-- element: integer (containsNull = true)\n",
      " |-- e3: array (nullable = false)\n",
      " |    |-- element: integer (containsNull = true)\n",
      " |-- e4: array (nullable = false)\n",
      " |    |-- element: integer (containsNull = true)\n",
      " |-- e5: array (nullable = false)\n",
      " |    |-- element: integer (containsNull = true)\n",
      " |-- e6: array (nullable = false)\n",
      " |    |-- element: integer (containsNull = true)\n",
      "\n"
     ]
    }
   ],
   "source": [
    "# df_TE.persist(StorageLevel.MEMORY_ONLY)\n",
    "\n",
    "df_TE = get_TE_from_T(df_tetra_order)\n",
    "\n",
    "df_TE.printSchema()"
   ]
  },
  {
   "cell_type": "code",
   "execution_count": 7,
   "id": "adolescent-indiana",
   "metadata": {},
   "outputs": [
    {
     "name": "stdout",
     "output_type": "stream",
     "text": [
      "Time cost: 123.58114004135132\n",
      "number of rows: 9715202480\n"
     ]
    }
   ],
   "source": [
    "t0 = time.time()\n",
    "\n",
    "num_row = df_TE.count()\n",
    "\n",
    "t1 = time.time()\n",
    "print(\"Time cost:\", t1 - t0)\n",
    "print(\"number of rows:\", num_row)"
   ]
  },
  {
   "cell_type": "code",
   "execution_count": 8,
   "id": "crazy-dealer",
   "metadata": {},
   "outputs": [
    {
     "name": "stdout",
     "output_type": "stream",
     "text": [
      "time cost: 480.0889575481415\n"
     ]
    }
   ],
   "source": [
    "t0 = time.time()\n",
    "\n",
    "file_TE = directory + '/' + tin_filename + '_TE.parquet'\n",
    "\n",
    "df_TE.write.parquet(file_TE)\n",
    "\n",
    "t1 = time.time()\n",
    "print(\"time cost:\", t1-t0)"
   ]
  },
  {
   "cell_type": "markdown",
   "id": "adapted-office",
   "metadata": {},
   "source": [
    "# compute TF relation"
   ]
  },
  {
   "cell_type": "markdown",
   "id": "reserved-avenue",
   "metadata": {},
   "source": [
    "### Method: local method"
   ]
  },
  {
   "cell_type": "code",
   "execution_count": 5,
   "id": "under-newfoundland",
   "metadata": {},
   "outputs": [],
   "source": [
    "# function to get TF relation\n",
    "def get_TF_from_T(df_tetra_order):\n",
    "    df_TF = df_tetra_order.withColumn(\"tetra\", sort_array(F.array(\"r1\", \"r2\", \"r3\", \"r4\"), False)).withColumn(\"f1\", sort_array(F.array(\"r1\", \"r2\", \"r3\"), False)).withColumn(\"f2\", sort_array(F.array(\"r1\", \"r2\", \"r4\"), False)).withColumn(\"f3\", sort_array(F.array(\"r1\", \"r3\", \"r4\"), False)).withColumn(\"f4\", sort_array(F.array(\"r2\", \"r3\", \"r4\"), False))\n",
    "    df_TF = df_TF.select('tetra', 'f1', 'f2', 'f3', 'f4')\n",
    "    \n",
    "    return df_TF"
   ]
  },
  {
   "cell_type": "code",
   "execution_count": 6,
   "id": "disciplinary-fashion",
   "metadata": {},
   "outputs": [
    {
     "name": "stdout",
     "output_type": "stream",
     "text": [
      "root\n",
      " |-- tetra: array (nullable = false)\n",
      " |    |-- element: integer (containsNull = true)\n",
      " |-- f1: array (nullable = false)\n",
      " |    |-- element: integer (containsNull = true)\n",
      " |-- f2: array (nullable = false)\n",
      " |    |-- element: integer (containsNull = true)\n",
      " |-- f3: array (nullable = false)\n",
      " |    |-- element: integer (containsNull = true)\n",
      " |-- f4: array (nullable = false)\n",
      " |    |-- element: integer (containsNull = true)\n",
      "\n"
     ]
    }
   ],
   "source": [
    "# df_TF.persist(StorageLevel.MEMORY_ONLY)\n",
    "\n",
    "df_TF = get_TF_from_T(df_tetra_order)\n",
    "\n",
    "df_TF.printSchema()"
   ]
  },
  {
   "cell_type": "code",
   "execution_count": 7,
   "id": "other-springer",
   "metadata": {},
   "outputs": [
    {
     "name": "stdout",
     "output_type": "stream",
     "text": [
      "Time cost: 177.00683879852295\n",
      "number of rows: 9715202480\n"
     ]
    }
   ],
   "source": [
    "t0 = time.time()\n",
    "\n",
    "num_row = df_TF.count()\n",
    "\n",
    "t1 = time.time()\n",
    "print(\"Time cost:\", t1 - t0)\n",
    "print(\"number of rows:\", num_row)"
   ]
  },
  {
   "cell_type": "code",
   "execution_count": 8,
   "id": "greater-height",
   "metadata": {},
   "outputs": [
    {
     "name": "stdout",
     "output_type": "stream",
     "text": [
      "time cost: 409.2017467021942\n"
     ]
    }
   ],
   "source": [
    "t0 = time.time()\n",
    "\n",
    "file_TF = directory + '/' + tin_filename + '_TF.parquet'\n",
    "\n",
    "df_TF.write.parquet(file_TF)\n",
    "\n",
    "t1 = time.time()\n",
    "print(\"time cost:\", t1-t0)"
   ]
  },
  {
   "cell_type": "markdown",
   "id": "still-priority",
   "metadata": {},
   "source": [
    "# compute FE relation"
   ]
  },
  {
   "cell_type": "markdown",
   "id": "specialized-spirit",
   "metadata": {},
   "source": [
    "### Method 1: pure global"
   ]
  },
  {
   "cell_type": "code",
   "execution_count": 5,
   "id": "joint-argument",
   "metadata": {},
   "outputs": [],
   "source": [
    "# function to get TF relation\n",
    "def get_TF_from_T(df_tetra_order):\n",
    "    df_TF = df_tetra_order.withColumn(\"tetra\", sort_array(F.array(\"r1\", \"r2\", \"r3\", \"r4\"), False)).withColumn(\"f1\", sort_array(F.array(\"r1\", \"r2\", \"r3\"), False)).withColumn(\"f2\", sort_array(F.array(\"r1\", \"r2\", \"r4\"), False)).withColumn(\"f3\", sort_array(F.array(\"r1\", \"r3\", \"r4\"), False)).withColumn(\"f4\", sort_array(F.array(\"r2\", \"r3\", \"r4\"), False))\n",
    "    df_TF = df_TF.select('tetra', 'f1', 'f2', 'f3', 'f4')\n",
    "    \n",
    "    return df_TF"
   ]
  },
  {
   "cell_type": "code",
   "execution_count": 6,
   "id": "medium-extreme",
   "metadata": {},
   "outputs": [
    {
     "name": "stdout",
     "output_type": "stream",
     "text": [
      "root\n",
      " |-- face: array (nullable = false)\n",
      " |    |-- element: integer (containsNull = true)\n",
      "\n"
     ]
    }
   ],
   "source": [
    "# get faces from DF_T\n",
    "\n",
    "df_TF = get_TF_from_T(df_tetra_order)\n",
    "\n",
    "df_F1 = df_TF.select('f1')\n",
    "df_F2 = df_TF.select('f2')\n",
    "df_F3 = df_TF.select('f3')\n",
    "df_F4 = df_TF.select('f4')\n",
    "\n",
    "df_Faces = df_F1.union(df_F2).union(df_F3).union(df_F4)\n",
    "df_Faces = df_Faces.withColumnRenamed('f1', 'face')\n",
    "df_Faces = df_Faces.distinct()\n",
    "df_Faces.printSchema()"
   ]
  },
  {
   "cell_type": "code",
   "execution_count": 7,
   "id": "racial-valve",
   "metadata": {},
   "outputs": [
    {
     "name": "stdout",
     "output_type": "stream",
     "text": [
      "root\n",
      " |-- face: array (nullable = false)\n",
      " |    |-- element: integer (containsNull = true)\n",
      " |-- e1: array (nullable = false)\n",
      " |    |-- element: integer (containsNull = true)\n",
      " |-- e2: array (nullable = false)\n",
      " |    |-- element: integer (containsNull = true)\n",
      " |-- e3: array (nullable = false)\n",
      " |    |-- element: integer (containsNull = true)\n",
      "\n"
     ]
    }
   ],
   "source": [
    "df_FE = df_Faces.withColumn('e1', F.array(df_Faces.face[0], df_Faces.face[1])).withColumn('e2', F.array(df_Faces.face[0], df_Faces.face[2])).withColumn('e3', F.array(df_Faces.face[1], df_Faces.face[2]))\n",
    "df_FE.printSchema()"
   ]
  },
  {
   "cell_type": "code",
   "execution_count": 8,
   "id": "accessory-uncertainty",
   "metadata": {},
   "outputs": [
    {
     "name": "stdout",
     "output_type": "stream",
     "text": [
      "Time cost: 49.48271083831787\n",
      "number of rows: 201406060\n"
     ]
    }
   ],
   "source": [
    "t0 = time.time()\n",
    "\n",
    "num_row = df_FE.count()\n",
    "\n",
    "t1 = time.time()\n",
    "print(\"Time cost:\", t1 - t0)\n",
    "print(\"number of rows:\", num_row)"
   ]
  },
  {
   "cell_type": "markdown",
   "id": "radical-humor",
   "metadata": {},
   "source": [
    "# compute FV relation"
   ]
  },
  {
   "cell_type": "markdown",
   "id": "transsexual-glossary",
   "metadata": {},
   "source": [
    "### Method 1: pure global"
   ]
  },
  {
   "cell_type": "code",
   "execution_count": 5,
   "id": "successful-sight",
   "metadata": {},
   "outputs": [],
   "source": [
    "# function to get TF relation\n",
    "def get_TF_from_T(df_tetra_order):\n",
    "    df_TF = df_tetra_order.withColumn(\"tetra\", sort_array(F.array(\"r1\", \"r2\", \"r3\", \"r4\"), False)).withColumn(\"f1\", sort_array(F.array(\"r1\", \"r2\", \"r3\"), False)).withColumn(\"f2\", sort_array(F.array(\"r1\", \"r2\", \"r4\"), False)).withColumn(\"f3\", sort_array(F.array(\"r1\", \"r3\", \"r4\"), False)).withColumn(\"f4\", sort_array(F.array(\"r2\", \"r3\", \"r4\"), False))\n",
    "    df_TF = df_TF.select('tetra', 'f1', 'f2', 'f3', 'f4')\n",
    "    \n",
    "    return df_TF"
   ]
  },
  {
   "cell_type": "code",
   "execution_count": 6,
   "id": "centered-lawsuit",
   "metadata": {},
   "outputs": [
    {
     "name": "stdout",
     "output_type": "stream",
     "text": [
      "root\n",
      " |-- face: array (nullable = false)\n",
      " |    |-- element: integer (containsNull = true)\n",
      "\n"
     ]
    }
   ],
   "source": [
    "# get faces from DF_T\n",
    "\n",
    "df_TF = get_TF_from_T(df_tetra_order)\n",
    "\n",
    "df_F1 = df_TF.select('f1')\n",
    "df_F2 = df_TF.select('f2')\n",
    "df_F3 = df_TF.select('f3')\n",
    "df_F4 = df_TF.select('f4')\n",
    "\n",
    "df_Faces = df_F1.union(df_F2).union(df_F3).union(df_F4)\n",
    "df_Faces = df_Faces.withColumnRenamed('f1', 'face')\n",
    "df_Faces = df_Faces.distinct()\n",
    "df_Faces.printSchema()"
   ]
  },
  {
   "cell_type": "code",
   "execution_count": 7,
   "id": "supposed-province",
   "metadata": {},
   "outputs": [
    {
     "name": "stdout",
     "output_type": "stream",
     "text": [
      "root\n",
      " |-- face: array (nullable = false)\n",
      " |    |-- element: integer (containsNull = true)\n",
      " |-- r1: integer (nullable = true)\n",
      " |-- r2: integer (nullable = true)\n",
      " |-- r3: integer (nullable = true)\n",
      "\n"
     ]
    }
   ],
   "source": [
    "df_FV = df_Faces.withColumn('r1', df_Faces.face[0]).withColumn('r2', df_Faces.face[1]).withColumn('r3', df_Faces.face[2])\n",
    "df_FV.printSchema()"
   ]
  },
  {
   "cell_type": "code",
   "execution_count": 8,
   "id": "spanish-graphic",
   "metadata": {},
   "outputs": [
    {
     "name": "stdout",
     "output_type": "stream",
     "text": [
      "Time cost: 836.0797238349915\n",
      "number of rows: 19434269798\n"
     ]
    }
   ],
   "source": [
    "t0 = time.time()\n",
    "\n",
    "num_row = df_FV.count()\n",
    "\n",
    "t1 = time.time()\n",
    "print(\"Time cost:\", t1 - t0)\n",
    "print(\"number of rows:\", num_row)"
   ]
  },
  {
   "cell_type": "markdown",
   "id": "packed-thickness",
   "metadata": {},
   "source": [
    "# compute EV relation"
   ]
  },
  {
   "cell_type": "markdown",
   "id": "cellular-research",
   "metadata": {},
   "source": [
    "### Method 1: pure global"
   ]
  },
  {
   "cell_type": "code",
   "execution_count": 5,
   "id": "active-clock",
   "metadata": {},
   "outputs": [],
   "source": [
    "# function to get TE relation\n",
    "def get_TE_from_T(df_tetra_order):\n",
    "    df_TE = df_tetra_order.withColumn(\"tetra\", sort_array(F.array(\"r1\", \"r2\", \"r3\", \"r4\"), False)).withColumn(\"e1\", sort_array(F.array(\"r1\", \"r2\",), False)).withColumn(\"e2\", sort_array(F.array(\"r1\", \"r3\",), False)).withColumn(\"e3\", sort_array(F.array(\"r1\", \"r4\",), False)).withColumn(\"e4\", sort_array(F.array(\"r2\", \"r3\",), False)).withColumn(\"e5\", sort_array(F.array(\"r2\", \"r4\",), False)).withColumn(\"e6\", sort_array(F.array(\"r3\", \"r4\",), False))\n",
    "    df_TE = df_TE.select('tetra', 'e1', 'e2', 'e3', 'e4', 'e5', 'e6')\n",
    "    \n",
    "    return df_TE"
   ]
  },
  {
   "cell_type": "code",
   "execution_count": 6,
   "id": "essential-tradition",
   "metadata": {},
   "outputs": [
    {
     "name": "stdout",
     "output_type": "stream",
     "text": [
      "root\n",
      " |-- edge: array (nullable = false)\n",
      " |    |-- element: integer (containsNull = true)\n",
      "\n"
     ]
    }
   ],
   "source": [
    "# get edges from DF_T\n",
    "\n",
    "df_TE = get_TE_from_T(df_tetra_order)\n",
    "\n",
    "df_E1 = df_TE.select('e1')\n",
    "df_E2 = df_TE.select('e2')\n",
    "df_E3 = df_TE.select('e3')\n",
    "df_E4 = df_TE.select('e4')\n",
    "df_E5 = df_TE.select('e5')\n",
    "df_E6 = df_TE.select('e6')\n",
    "\n",
    "df_Edges = df_E1.union(df_E2).union(df_E3).union(df_E4).union(df_E5).union(df_E6)\n",
    "df_Edges = df_Edges.withColumnRenamed('e1', 'edge')\n",
    "df_Edges = df_Edges.distinct()\n",
    "df_Edges.printSchema()"
   ]
  },
  {
   "cell_type": "code",
   "execution_count": 7,
   "id": "furnished-nerve",
   "metadata": {},
   "outputs": [
    {
     "name": "stdout",
     "output_type": "stream",
     "text": [
      "root\n",
      " |-- edge: array (nullable = false)\n",
      " |    |-- element: integer (containsNull = true)\n",
      " |-- r1: integer (nullable = true)\n",
      " |-- r2: integer (nullable = true)\n",
      "\n"
     ]
    }
   ],
   "source": [
    "df_EV = df_Edges.withColumn('r1', df_Edges.edge[0]).withColumn('r2', df_Edges.edge[1])\n",
    "df_EV.printSchema()"
   ]
  },
  {
   "cell_type": "code",
   "execution_count": 8,
   "id": "liked-corps",
   "metadata": {},
   "outputs": [
    {
     "name": "stdout",
     "output_type": "stream",
     "text": [
      "Time cost: 1018.6769051551819\n",
      "number of rows: 11511582639\n"
     ]
    }
   ],
   "source": [
    "t0 = time.time()\n",
    "\n",
    "num_row = df_EV.count()\n",
    "\n",
    "t1 = time.time()\n",
    "print(\"Time cost:\", t1 - t0)\n",
    "print(\"number of rows:\", num_row)"
   ]
  }
 ],
 "metadata": {
  "kernelspec": {
   "display_name": "Python 3",
   "language": "python",
   "name": "python3"
  },
  "language_info": {
   "codemirror_mode": {
    "name": "ipython",
    "version": 3
   },
   "file_extension": ".py",
   "mimetype": "text/x-python",
   "name": "python",
   "nbconvert_exporter": "python",
   "pygments_lexer": "ipython3",
   "version": "3.7.7"
  }
 },
 "nbformat": 4,
 "nbformat_minor": 5
}
