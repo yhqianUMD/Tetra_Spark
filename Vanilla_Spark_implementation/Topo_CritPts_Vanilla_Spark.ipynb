{
 "cells": [
  {
   "cell_type": "code",
   "execution_count": 1,
   "id": "under-western",
   "metadata": {},
   "outputs": [],
   "source": [
    "import findspark\n",
    "import os\n",
    "import gc\n",
    "#findspark.init() \n",
    "SPARK_HOME='/opt/cloudera/parcels/CDH/lib/spark'\n",
    "findspark.init(SPARK_HOME)\n",
    "\n",
    "import time\n",
    "import math\n",
    "import copy\n",
    "import csv\n",
    "import json\n",
    "import os\n",
    "import codecs\n",
    "import subprocess\n",
    "import numpy as np\n",
    "from pyspark import SQLContext\n",
    "from pyspark.sql import Row\n",
    "from pyspark.sql import functions as F\n",
    "from pyspark.sql.functions import size, array_union,flatten,array_sort,coalesce,broadcast,collect_list, collect_set, udf, array_remove, log, lit, first, col, array, sort_array,split, explode, desc, asc, row_number,isnan, when, count\n",
    "from pyspark.sql.types import *\n",
    "import rtree\n",
    "from pyspark.sql import Window\n",
    "import geofeather\n",
    "from pyspark.storagelevel import StorageLevel\n",
    "\n",
    "from pyspark.sql import SparkSession\n",
    "from pyspark import StorageLevel\n",
    "import geopandas as gpd\n",
    "import pandas as pd\n",
    "from pyspark.sql.types import StructType, StructField, StringType, IntegerType, LongType, FloatType, ArrayType, MapType\n",
    "from shapely.geometry import Point\n",
    "from shapely.geometry import Polygon\n",
    "\n",
    "from sedona.register import SedonaRegistrator\n",
    "from sedona.core.SpatialRDD import SpatialRDD, PointRDD, CircleRDD, PolygonRDD, LineStringRDD\n",
    "from sedona.core.enums import FileDataSplitter\n",
    "from sedona.utils.adapter import Adapter\n",
    "from sedona.core.spatialOperator import KNNQuery\n",
    "from sedona.core.spatialOperator import JoinQuery\n",
    "from sedona.core.spatialOperator import JoinQueryRaw\n",
    "from sedona.core.spatialOperator import RangeQuery\n",
    "from sedona.core.spatialOperator import RangeQueryRaw\n",
    "from sedona.core.formatMapper.shapefileParser import ShapefileReader\n",
    "from sedona.core.formatMapper import WkbReader\n",
    "from sedona.core.formatMapper import WktReader\n",
    "from sedona.core.formatMapper import GeoJsonReader\n",
    "from sedona.sql.types import GeometryType\n",
    "from sedona.core.enums import GridType\n",
    "from sedona.core.SpatialRDD import RectangleRDD\n",
    "from sedona.core.enums import IndexType\n",
    "from sedona.core.geom.envelope import Envelope\n",
    "from sedona.utils import SedonaKryoRegistrator, KryoSerializer\n",
    "\n",
    "os.environ['PYSPARK_PYTHON'] = \"./environment/bin/python\"\n",
    "#os.environ['PYSPARK_PYTHON'] = \"/home/qiany/.conda/envs/py37/bin/python\"\n",
    "os.environ['YARN_CONF_DIR'] = \"/opt/cloudera/parcels/CDH/lib/spark/conf/yarn-conf\""
   ]
  },
  {
   "cell_type": "code",
   "execution_count": 2,
   "id": "unsigned-designation",
   "metadata": {},
   "outputs": [
    {
     "name": "stdout",
     "output_type": "stream",
     "text": [
      "\n",
      "********************\n",
      "tin_directory:  /home/qiany/yuehui/pyspark/Tetra_mesh/data\n",
      "tin_basename:  Lander_big.ts\n",
      "tin_filename:  Lander_big\n",
      "tin_extension:  .ts\n",
      "\n",
      "********************\n",
      "This is a TIN file in \".ts\" format\n"
     ]
    }
   ],
   "source": [
    "tin_file = input(\"Here is a programe to extract boundary relations, please input the absolute or relative path to your .ts file:\")\n",
    "\n",
    "# get the directory, basename of the input file\n",
    "print(\"\\n********************\")\n",
    "tin_directory = os.path.dirname(tin_file)\n",
    "print(\"tin_directory: \", tin_directory)\n",
    "\n",
    "directory_type = input(\"Is the data stored in hdfs(0) or Tri_data(1) or Tetra_data (2):\") or \"2\"\n",
    "\n",
    "if directory_type == '0':\n",
    "    directory = 'hdfs_data'\n",
    "elif directory_type == '1':\n",
    "    directory = 'Tri_data'\n",
    "else:\n",
    "    directory = 'Tetra_data'\n",
    "    \n",
    "tin_basename = os.path.basename(tin_file) # input_vertices_2.off\n",
    "print(\"tin_basename: \", tin_basename)\n",
    "\n",
    "tin_filename = os.path.splitext(tin_basename)[0] # input_vertices_2\n",
    "print(\"tin_filename: \", tin_filename)\n",
    "\n",
    "tin_extension = os.path.splitext(tin_basename)[1] # .off\n",
    "print(\"tin_extension: \", tin_extension)\n",
    "\n",
    "print(\"\\n********************\")\n",
    "print(\"This is a TIN file in \\\"%s\\\" format\" % tin_extension)\n",
    "\n",
    "filtra = 'yes'\n",
    "\n",
    "# allocate the number of executors, the number of cores per executor, and the amount of memory per executor\n",
    "Num_executor = '64'\n",
    "Num_core_per_executor = '5'\n",
    "Memory_executor = '64g'\n",
    "MemoryOverhead_executor = '8g'\n",
    "\n",
    "# allocate the number of cores for the driver node\n",
    "Num_core_per_driver = '5'\n",
    "Memory_driver = '64g'\n",
    "MemoryOverhead_driver = '32g'\n",
    "\n",
    "# the default number of shuffle partitions\n",
    "Num_shuffle_partitions = input(\"spark.sql.shuffle.partitions:\")"
   ]
  },
  {
   "cell_type": "code",
   "execution_count": 3,
   "id": "pacific-approval",
   "metadata": {},
   "outputs": [
    {
     "name": "stdout",
     "output_type": "stream",
     "text": [
      "spark_app_name: TopoRela_CritPts_separate_TetraMesh_Lander_big_06162024_0157\n"
     ]
    }
   ],
   "source": [
    "'''\n",
    "spark.executor.cores: # Number of concurrent tasks an executor can run, euqals to the number of cores to use on each executor\n",
    "spark.executor.instances: # Number of executors for the spark application\n",
    "spark.executor.memory: # Amount of memory to use for each executor that runs the task\n",
    "spark.executor.memoryOverhead:\n",
    "spark.driver.cores: # Number of cores to use for the driver process; the default number is 1\n",
    "spark.driver.memory: # Amount of memory to use for the driver\n",
    "spark.driver.maxResultSize: to define the maximum limit of the total size of the serialized result that a driver can store for each Spark collect action\n",
    "spark.default.parallelism: # Default number of partitions in RDDs returned by transformations like join, reduceByKey, and parallelize when not set by user. It can be set as spark.executor.instances * spark.executor.cores * 2\n",
    "spark.sql.shuffle.partitions: determine how many partitions are used when data is shuffled between nodes, e.g., joins or aggregations. usually 1~5 times of executor.instances * executor.cores\n",
    "spark.memory.storageFraction: determines the fraction of the heap space that is allocated to caching RDDs and DataFrames in memory.\n",
    "spark.kryoserializer.buffer.max: determine the maximum of data that can be serialized at once; this must be larger than any object we attempt to serialize\n",
    "spark.rpc.message.maxSize: # Maximum message size (in MiB) to allow in \"control plane\" communication; generally only applies to map output size information sent between executors and the driver. To communicate between the nodes, Spark uses a protocol called RPC (Remote Procedure Call), which sends messages back and forth. The spark.rpc.message.maxSize parameter limits how big these messages can be. \n",
    "spark.sql.broadcastTimeout: Spark will wait for this amount of time before giving up on broadcasting a table. Broadcasting can take a long time if the table is large or if there is a shuffle operation before it.\n",
    "spark.sql.autoBroadcastJoinThreshold: Spark will broadcast a table to all worker nodes when performing a join if its size is less than this value; -1 means disabling broadcasting\n",
    "'''\n",
    "\n",
    "date = time.strftime(\"%m,%d,%Y\")\n",
    "date_name = date.split(',')[0] + date.split(',')[1] + date.split(',')[2]\n",
    "\n",
    "hour = time.strftime(\"%H,%M\")\n",
    "hour_name = hour.split(',')[0] + hour.split(',')[1]\n",
    "\n",
    "spark_app_name = \"TopoRela_CritPts_Vanilla_Spark_\" + tin_filename + '_' + date_name + '_' + hour_name\n",
    "print(\"spark_app_name:\", spark_app_name)\n",
    "\n",
    "spark = SparkSession \\\n",
    ".builder \\\n",
    ".appName(spark_app_name) \\\n",
    ".master('yarn') \\\n",
    ".config(\"spark.serializer\", KryoSerializer.getName) \\\n",
    ".config('spark.jars','sedona-core-2.4_2.11-1.0.0-incubating.jar,sedona-sql-2.4_2.11-1.0.0-incubating.jar,sedona-python-adapter-2.4_2.11-1.0.0-incubating.jar,sedona-viz-2.4_2.11-1.0.0-incubating.jar,geotools-wrapper-geotools-24.0.jar,graphframes-0.8.0-spark2.4-s_2.11.jar') \\\n",
    ".config('spark.executor.cores', Num_core_per_executor) \\\n",
    ".config('spark.executor.instances', Num_executor) \\\n",
    ".config('spark.executor.memory', Memory_executor) \\\n",
    ".config('spark.executor.memoryOverhead', MemoryOverhead_executor) \\\n",
    ".config('spark.driver.cores', Num_core_per_driver) \\\n",
    ".config('spark.driver.memory', Memory_driver) \\\n",
    ".config('spark.driver.memoryOverhead', MemoryOverhead_driver) \\\n",
    ".config('spark.driver.maxResultSize', '0') \\\n",
    ".config('spark.dynamicAllocation.enabled', 'false') \\\n",
    ".config('spark.network.timeout', '10000001s') \\\n",
    ".config('spark.executor.heartbeatInterval', '10000000s') \\\n",
    ".config('spark.sql.shuffle.partitions', Num_shuffle_partitions) \\\n",
    ".config(\"spark.default.parallelism\", '400') \\\n",
    ".config(\"spark.kryoserializer.buffer.max\", \"1024mb\") \\\n",
    ".config('spark.rpc.message.maxSize', '256') \\\n",
    ".config(\"spark.sql.broadcastTimeout\", \"36000\") \\\n",
    ".config(\"spark.sql.autoBroadcastJoinThreshold\", \"-1\") \\\n",
    ".config(\"spark.sql.objectHashAggregate.sortBased.fallbackThreshold\", \"-1\") \\\n",
    ".config('spark.yarn.dist.archives', '/local/data/yuehui/py37.tar.gz#environment') \\\n",
    ".config(\"spark.python.profile\", \"true\") \\\n",
    ".config(\"spark.eventLog.enabled\", \"true\") \\\n",
    ".config(\"spark.eventLog.logStageExecutorMetrics\", \"true\") \\\n",
    ".getOrCreate()"
   ]
  },
  {
   "cell_type": "markdown",
   "id": "scientific-intellectual",
   "metadata": {},
   "source": [
    "### read input files"
   ]
  },
  {
   "cell_type": "code",
   "execution_count": 4,
   "id": "sophisticated-valuable",
   "metadata": {},
   "outputs": [
    {
     "name": "stdout",
     "output_type": "stream",
     "text": [
      "Number of partitions for df_tetra_origin: 4959\n",
      "root\n",
      " |-- r1: integer (nullable = true)\n",
      " |-- r2: integer (nullable = true)\n",
      " |-- r3: integer (nullable = true)\n",
      " |-- r4: integer (nullable = true)\n",
      " |-- r1_ele: float (nullable = true)\n",
      " |-- r2_ele: float (nullable = true)\n",
      " |-- r3_ele: float (nullable = true)\n",
      " |-- r4_ele: float (nullable = true)\n",
      "\n"
     ]
    }
   ],
   "source": [
    "# read_tetra_order() is a function used to read tetrahedron from a csv file\n",
    "def read_tetra_order(hdfs_tetra_origin):\n",
    "    '''\n",
    "    this function has two input parameters.\n",
    "    filtra: 'yes' or 'no', yes means that the input csv file is ordered by default\n",
    "    directory: a string denoting the directory to a tetrahedra file\n",
    "    tin_filename: a string denoting the file name of a tetrahedra extension, e.g., 827_monviso\n",
    "    '''\n",
    "        \n",
    "    schema_tetra_origin = StructType([ \\\n",
    "        StructField(\"tetra_order\",IntegerType(),True), \\\n",
    "        StructField(\"r1\",IntegerType(),True), \\\n",
    "        StructField(\"r2\",IntegerType(),True), \\\n",
    "        StructField(\"r3\",IntegerType(),True), \\\n",
    "        StructField(\"r4\",IntegerType(),True), \\\n",
    "        StructField(\"r1_ele\",FloatType(),True), \\\n",
    "        StructField(\"r2_ele\",FloatType(),True), \\\n",
    "        StructField(\"r3_ele\",FloatType(),True), \\\n",
    "        StructField(\"r4_ele\",FloatType(),True) \\\n",
    "      ])\n",
    "\n",
    "    df_tetra_origin = spark.read.format(\"csv\") \\\n",
    "          .option(\"header\", False) \\\n",
    "          .schema(schema_tetra_origin)\\\n",
    "          .load(hdfs_tetra_origin)\n",
    "        \n",
    "    return df_tetra_origin\n",
    "\n",
    "\n",
    "# read tetrahedra\n",
    "hdfs_tetra_origin = directory + \"/\" + tin_filename + '_filtra_tetra_sort.csv'\n",
    "\n",
    "df_tetra_order = read_tetra_order(hdfs_tetra_origin)\n",
    "df_tetra_order.printSchema()"
   ]
  },
  {
   "cell_type": "markdown",
   "id": "authentic-jefferson",
   "metadata": {},
   "source": [
    "### globally obtain VT relation"
   ]
  },
  {
   "cell_type": "code",
   "execution_count": 5,
   "id": "rising-debut",
   "metadata": {},
   "outputs": [],
   "source": [
    "# function to get VT directly from DF_T\n",
    "def get_VT(df_tetra_order):\n",
    "    df_tetra_order = df_tetra_order.withColumn(\"tetra\", sort_array(F.array(\"r1\", \"r2\", \"r3\", \"r4\"), False))\n",
    "    df_VT_init_1 = df_tetra_order.select(\"r1\",\"tetra\")\n",
    "    df_VT_init_2 = df_tetra_order.select(\"r2\",\"tetra\")\n",
    "    df_VT_init_3 = df_tetra_order.select(\"r3\",\"tetra\")\n",
    "    df_VT_init_4 = df_tetra_order.select(\"r4\",\"tetra\")\n",
    "    \n",
    "    df_VT_union12 = df_VT_init_1.union(df_VT_init_2)\n",
    "    df_VT_union123 = df_VT_union12.union(df_VT_init_3)\n",
    "    df_VT_union1234 = df_VT_union123.union(df_VT_init_4)\n",
    "    \n",
    "    df_VT = df_VT_union1234.groupBy('r1').agg(collect_list('tetra').alias('VT'))\n",
    "    df_VT = df_VT.withColumnRenamed('r1', 'Ver')\n",
    "    \n",
    "    return df_VT"
   ]
  },
  {
   "cell_type": "code",
   "execution_count": 6,
   "id": "generous-observation",
   "metadata": {},
   "outputs": [
    {
     "name": "stdout",
     "output_type": "stream",
     "text": [
      "root\n",
      " |-- Ver: integer (nullable = true)\n",
      " |-- VT: array (nullable = true)\n",
      " |    |-- element: array (containsNull = true)\n",
      " |    |    |-- element: integer (containsNull = true)\n",
      "\n"
     ]
    }
   ],
   "source": [
    "df_VT = get_VT(df_tetra_order)\n",
    "\n",
    "df_VT.printSchema()"
   ]
  },
  {
   "cell_type": "code",
   "execution_count": 7,
   "id": "collectible-society",
   "metadata": {},
   "outputs": [
    {
     "name": "stdout",
     "output_type": "stream",
     "text": [
      "Time cost: 501.4889419078827\n",
      "number of rows: 1792989718\n"
     ]
    }
   ],
   "source": [
    "t0 = time.time()\n",
    "\n",
    "num_row = df_VT.count()\n",
    "\n",
    "t1 = time.time()\n",
    "t_count_VT = t1 - t0\n",
    "print(\"Time cost:\", t_count_VT)\n",
    "print(\"number of rows:\", num_row)"
   ]
  },
  {
   "cell_type": "markdown",
   "id": "collected-hardwood",
   "metadata": {},
   "source": [
    "### globally obtain VF relation"
   ]
  },
  {
   "cell_type": "code",
   "execution_count": 8,
   "id": "roman-publication",
   "metadata": {},
   "outputs": [
    {
     "name": "stdout",
     "output_type": "stream",
     "text": [
      "root\n",
      " |-- r1: integer (nullable = true)\n",
      " |-- multi_f1: array (nullable = true)\n",
      " |    |-- element: array (containsNull = true)\n",
      " |    |    |-- element: integer (containsNull = true)\n",
      " |-- multi_f2: array (nullable = true)\n",
      " |    |-- element: array (containsNull = true)\n",
      " |    |    |-- element: integer (containsNull = true)\n",
      " |-- multi_f3: array (nullable = true)\n",
      " |    |-- element: array (containsNull = true)\n",
      " |    |    |-- element: integer (containsNull = true)\n",
      "\n"
     ]
    }
   ],
   "source": [
    "# function to get VF from DF_T\n",
    "def get_VF_init(df_tetra_order):\n",
    "    df_VF_1 = df_tetra_order.withColumn(\"f1\", sort_array(F.array(\"r1\", \"r2\", \"r3\"), False)).withColumn(\"f2\", sort_array(F.array(\"r1\", \"r2\", \"r4\"), False)).withColumn(\"f3\", sort_array(F.array(\"r1\", \"r3\", \"r4\"), False)).drop('r2', 'r3', 'r4')\n",
    "    df_VF_2 = df_tetra_order.withColumn(\"f1\", sort_array(F.array(\"r2\", \"r1\", \"r3\"), False)).withColumn(\"f2\", sort_array(F.array(\"r2\", \"r1\", \"r4\"), False)).withColumn(\"f3\", sort_array(F.array(\"r2\", \"r3\", \"r4\"), False)).drop('r1', 'r3', 'r4')\n",
    "    df_VF_3 = df_tetra_order.withColumn(\"f1\", sort_array(F.array(\"r3\", \"r1\", \"r2\"), False)).withColumn(\"f2\", sort_array(F.array(\"r3\", \"r1\", \"r4\"), False)).withColumn(\"f3\", sort_array(F.array(\"r3\", \"r2\", \"r4\"), False)).drop('r1', 'r2', 'r4')\n",
    "    df_VF_4 = df_tetra_order.withColumn(\"f1\", sort_array(F.array(\"r4\", \"r1\", \"r2\"), False)).withColumn(\"f2\", sort_array(F.array(\"r4\", \"r1\", \"r3\"), False)).withColumn(\"f3\", sort_array(F.array(\"r4\", \"r2\", \"r3\"), False)).drop('r1', 'r2', 'r3')\n",
    "    \n",
    "    df_VF_union12 = df_VF_1.union(df_VF_2)\n",
    "    df_VF_union123 = df_VF_union12.union(df_VF_3)\n",
    "    df_VF_union1234 = df_VF_union123.union(df_VF_4)\n",
    "    \n",
    "    df_VF_init = df_VF_union1234.groupBy('r1').agg(collect_set('f1').alias('multi_f1'), collect_set('f2').alias('multi_f2'), collect_set('f3').alias('multi_f3'))\n",
    "    return df_VF_init\n",
    "\n",
    "df_VF_init = get_VF_init(df_tetra_order)\n",
    "\n",
    "# df_VE_init.cache()\n",
    "\n",
    "df_VF_init.printSchema()"
   ]
  },
  {
   "cell_type": "code",
   "execution_count": 9,
   "id": "choice-titanium",
   "metadata": {},
   "outputs": [
    {
     "name": "stdout",
     "output_type": "stream",
     "text": [
      "root\n",
      " |-- Ver: integer (nullable = true)\n",
      " |-- VF: array (nullable = true)\n",
      " |    |-- element: array (containsNull = true)\n",
      " |    |    |-- element: integer (containsNull = true)\n",
      "\n"
     ]
    }
   ],
   "source": [
    "# obtain VF relation\n",
    "def get_VF(multi_f1, multi_f2, multi_f3):\n",
    "# get_VF is used to obtain a complete VF relation from the partial VF relations\n",
    "# multi_f1: partial VF relation\n",
    "# multi_f2: partial VF relation\n",
    "# multi_f3: partial VF relation\n",
    "\n",
    "    faces = set()\n",
    "    for f in multi_f1:\n",
    "        faces.add(tuple(f))\n",
    "        \n",
    "    for f in multi_f2:\n",
    "        faces.add(tuple(f))\n",
    "        \n",
    "    for f in multi_f3:\n",
    "        faces.add(tuple(f))\n",
    "    \n",
    "    faces_list = sorted(faces) # save more time when using list(faces)\n",
    "    \n",
    "    return faces_list\n",
    "\n",
    "# convert a function to an udf and determine the return type\n",
    "# https://spark.apache.org/docs/3.1.3/api/python/reference/api/pyspark.sql.functions.udf.html\n",
    "get_VF_udf = udf(get_VF, ArrayType(ArrayType(IntegerType())))\n",
    "\n",
    "df_VF = df_VF_init.withColumn(\"VF\", get_VF_udf(df_VF_init.multi_f1, df_VF_init.multi_f2, df_VF_init.multi_f3)).drop('multi_f1', 'multi_f2', 'multi_f3')\n",
    "df_VF = df_VF.withColumnRenamed('r1', 'Ver')\n",
    "\n",
    "df_VF.printSchema()"
   ]
  },
  {
   "cell_type": "code",
   "execution_count": 10,
   "id": "ecological-intermediate",
   "metadata": {},
   "outputs": [
    {
     "name": "stdout",
     "output_type": "stream",
     "text": [
      "Time cost: 460.74542474746704\n",
      "number of rows: 1792989718\n"
     ]
    }
   ],
   "source": [
    "t0 = time.time()\n",
    "\n",
    "num_row = df_VF.count()\n",
    "\n",
    "t1 = time.time()\n",
    "t_count_VF = t1 - t0\n",
    "print(\"Time cost:\", t_count_VF)\n",
    "print(\"number of rows:\", num_row)"
   ]
  },
  {
   "cell_type": "markdown",
   "id": "tough-blowing",
   "metadata": {},
   "source": [
    "### globally obtain VV relation"
   ]
  },
  {
   "cell_type": "code",
   "execution_count": 11,
   "id": "written-skill",
   "metadata": {},
   "outputs": [],
   "source": [
    "# function to get VV using groupby\n",
    "def get_VV(df_tetra_order):\n",
    "    df_VV_init_1 = df_tetra_order.select(\"r1\", \"r2\", \"r3\", \"r4\")\n",
    "    df_VV_init_2 = df_tetra_order.select(\"r2\", \"r1\", \"r3\", \"r4\")\n",
    "    df_VV_init_3 = df_tetra_order.select(\"r3\", \"r1\", \"r2\", \"r4\")\n",
    "    df_VV_init_4 = df_tetra_order.select(\"r4\", \"r1\", \"r2\", \"r3\")\n",
    "    \n",
    "    df_VV_union1234 = df_VV_init_1.union(df_VV_init_2).union(df_VV_init_3).union(df_VV_init_4)\n",
    "    \n",
    "    df_VV_gp = df_VV_union1234.groupBy('r1').agg(collect_set('r2').alias('multi_r2_set'),collect_set('r3').alias('multi_r3_set'),collect_set('r4').alias('multi_r4_set'))\n",
    "    \n",
    "    return df_VV_gp"
   ]
  },
  {
   "cell_type": "code",
   "execution_count": 12,
   "id": "quantitative-dakota",
   "metadata": {},
   "outputs": [
    {
     "name": "stdout",
     "output_type": "stream",
     "text": [
      "root\n",
      " |-- r1: integer (nullable = true)\n",
      " |-- multi_r2_set: array (nullable = true)\n",
      " |    |-- element: integer (containsNull = true)\n",
      " |-- multi_r3_set: array (nullable = true)\n",
      " |    |-- element: integer (containsNull = true)\n",
      " |-- multi_r4_set: array (nullable = true)\n",
      " |    |-- element: integer (containsNull = true)\n",
      "\n"
     ]
    }
   ],
   "source": [
    "df_VV_gp = get_VV(df_tetra_order)\n",
    "\n",
    "df_VV_gp.printSchema()"
   ]
  },
  {
   "cell_type": "code",
   "execution_count": 13,
   "id": "western-swimming",
   "metadata": {},
   "outputs": [],
   "source": [
    "# obtain VV relation\n",
    "def get_multi_pt_order(pt_list1, pt_list2, pt_list3):\n",
    "# get_multi_pt_index is used to obtain the adjacent vertexes index, including the vertex itself\n",
    "# pt_list1: partial adjacent vertex indexes of join result 1\n",
    "# pt_list2: partial adjacent vertex indexes of join result 2\n",
    "# pt_list3: partial adjacent vertex indexes of join result 3\n",
    "    pt_init = pt_list1 + pt_list2 + pt_list3\n",
    "    pt_set = set(pt_init)\n",
    "    \n",
    "    pt_list = sorted(pt_set) # sorted(pt_set, reverse=False), False in ascending order while True in descending order\n",
    "    \n",
    "    return pt_list # directly return a list, e.g., [0, 1, 5, 6], the length of returned column list will be 12, incluing \"[\" and empty char\n",
    "\n",
    "get_multi_pt_order_udf = udf(get_multi_pt_order, ArrayType(IntegerType()))"
   ]
  },
  {
   "cell_type": "code",
   "execution_count": 14,
   "id": "martial-reception",
   "metadata": {},
   "outputs": [
    {
     "name": "stdout",
     "output_type": "stream",
     "text": [
      "root\n",
      " |-- Ver: integer (nullable = true)\n",
      " |-- VV: array (nullable = true)\n",
      " |    |-- element: integer (containsNull = true)\n",
      "\n"
     ]
    }
   ],
   "source": [
    "df_VV = df_VV_gp.withColumn(\"VV\", get_multi_pt_order_udf(df_VV_gp.multi_r2_set, df_VV_gp.multi_r3_set, df_VV_gp.multi_r4_set)).drop('multi_r2_set', 'multi_r3_set', 'multi_r4_set')\n",
    "\n",
    "df_VV = df_VV.withColumnRenamed('r1', 'Ver')\n",
    "\n",
    "df_VV.printSchema()"
   ]
  },
  {
   "cell_type": "code",
   "execution_count": 15,
   "id": "dramatic-porter",
   "metadata": {},
   "outputs": [
    {
     "name": "stdout",
     "output_type": "stream",
     "text": [
      "Time cost: 455.9120762348175\n",
      "number of rows: 1792989718\n"
     ]
    }
   ],
   "source": [
    "t0 = time.time()\n",
    "\n",
    "num_row = df_VV.count()\n",
    "\n",
    "t1 = time.time()\n",
    "t_count_VV = t1 - t0\n",
    "print(\"Time cost:\", t_count_VV)\n",
    "print(\"number of rows:\", num_row)"
   ]
  },
  {
   "cell_type": "markdown",
   "id": "tough-clearing",
   "metadata": {},
   "source": [
    "### globally obtain TE relation"
   ]
  },
  {
   "cell_type": "code",
   "execution_count": 16,
   "id": "indirect-inventory",
   "metadata": {},
   "outputs": [],
   "source": [
    "# function to get TE relation\n",
    "def get_TE_from_T(df_tetra_order):\n",
    "    df_TE = df_tetra_order.withColumn(\"tetra\", sort_array(F.array(\"r1\", \"r2\", \"r3\", \"r4\"), False)).withColumn(\"e1\", sort_array(F.array(\"r1\", \"r2\",), False)).withColumn(\"e2\", sort_array(F.array(\"r1\", \"r3\",), False)).withColumn(\"e3\", sort_array(F.array(\"r1\", \"r4\",), False)).withColumn(\"e4\", sort_array(F.array(\"r2\", \"r3\",), False)).withColumn(\"e5\", sort_array(F.array(\"r2\", \"r4\",), False)).withColumn(\"e6\", sort_array(F.array(\"r3\", \"r4\",), False))\n",
    "    df_TE = df_TE.select('tetra', 'e1', 'e2', 'e3', 'e4', 'e5', 'e6')\n",
    "    \n",
    "    return df_TE"
   ]
  },
  {
   "cell_type": "code",
   "execution_count": 17,
   "id": "infrared-bunch",
   "metadata": {},
   "outputs": [
    {
     "name": "stdout",
     "output_type": "stream",
     "text": [
      "root\n",
      " |-- tetra: array (nullable = false)\n",
      " |    |-- element: integer (containsNull = true)\n",
      " |-- e1: array (nullable = false)\n",
      " |    |-- element: integer (containsNull = true)\n",
      " |-- e2: array (nullable = false)\n",
      " |    |-- element: integer (containsNull = true)\n",
      " |-- e3: array (nullable = false)\n",
      " |    |-- element: integer (containsNull = true)\n",
      " |-- e4: array (nullable = false)\n",
      " |    |-- element: integer (containsNull = true)\n",
      " |-- e5: array (nullable = false)\n",
      " |    |-- element: integer (containsNull = true)\n",
      " |-- e6: array (nullable = false)\n",
      " |    |-- element: integer (containsNull = true)\n",
      "\n"
     ]
    }
   ],
   "source": [
    "# df_TE.persist(StorageLevel.MEMORY_ONLY)\n",
    "\n",
    "df_TE = get_TE_from_T(df_tetra_order)\n",
    "\n",
    "df_TE.printSchema()"
   ]
  },
  {
   "cell_type": "markdown",
   "id": "animal-jesus",
   "metadata": {},
   "source": [
    "##### get TE where tetrahedra incident to the same vertex"
   ]
  },
  {
   "cell_type": "code",
   "execution_count": 18,
   "id": "young-whale",
   "metadata": {},
   "outputs": [
    {
     "name": "stdout",
     "output_type": "stream",
     "text": [
      "root\n",
      " |-- Ver: integer (nullable = true)\n",
      " |-- tetra: array (nullable = false)\n",
      " |    |-- element: integer (containsNull = true)\n",
      " |-- e1: array (nullable = false)\n",
      " |    |-- element: integer (containsNull = true)\n",
      " |-- e2: array (nullable = false)\n",
      " |    |-- element: integer (containsNull = true)\n",
      " |-- e3: array (nullable = false)\n",
      " |    |-- element: integer (containsNull = true)\n",
      " |-- e4: array (nullable = false)\n",
      " |    |-- element: integer (containsNull = true)\n",
      " |-- e5: array (nullable = false)\n",
      " |    |-- element: integer (containsNull = true)\n",
      " |-- e6: array (nullable = false)\n",
      " |    |-- element: integer (containsNull = true)\n",
      "\n"
     ]
    }
   ],
   "source": [
    "df_VT_expl = df_VT.select(\"Ver\", explode(\"VT\").alias(\"single_tetra\"))\n",
    "\n",
    "df_TE_expected_init = df_VT_expl.join(df_TE, df_VT_expl.single_tetra == df_TE.tetra).drop('single_tetra')\n",
    "df_TE_expected_init.printSchema()"
   ]
  },
  {
   "cell_type": "code",
   "execution_count": 19,
   "id": "victorian-sandwich",
   "metadata": {},
   "outputs": [],
   "source": [
    "def union_TE(tetra, e1, e2, e3, e4, e5, e6):\n",
    "    # TE_dict = {}\n",
    "    # TE_dict[tuple(tetra)] = [e1, e2, e3, e4, e5, e6]\n",
    "    TE_ary = [[tetra], [e1, e2, e3, e4, e5, e6]]\n",
    "    \n",
    "    return TE_ary\n",
    "\n",
    "union_TE_udf = udf(union_TE, ArrayType(ArrayType(ArrayType(IntegerType()))))"
   ]
  },
  {
   "cell_type": "code",
   "execution_count": 20,
   "id": "metropolitan-glucose",
   "metadata": {},
   "outputs": [
    {
     "name": "stdout",
     "output_type": "stream",
     "text": [
      "root\n",
      " |-- Ver: integer (nullable = true)\n",
      " |-- TE_final: array (nullable = true)\n",
      " |    |-- element: array (containsNull = true)\n",
      " |    |    |-- element: array (containsNull = true)\n",
      " |    |    |    |-- element: array (containsNull = true)\n",
      " |    |    |    |    |-- element: integer (containsNull = true)\n",
      "\n"
     ]
    }
   ],
   "source": [
    "df_TE_expected_udf = df_TE_expected_init.withColumn(\"TE_expected\", union_TE_udf(df_TE_expected_init.tetra, df_TE_expected_init.e1, df_TE_expected_init.e2, df_TE_expected_init.e3, df_TE_expected_init.e4, df_TE_expected_init.e5, df_TE_expected_init.e6))\n",
    "df_TE_expected_udf = df_TE_expected_udf.select(\"Ver\", \"TE_expected\")\n",
    "\n",
    "df_TE_expected = df_TE_expected_udf.groupby(\"Ver\").agg(collect_list('TE_expected').alias('TE_final'))\n",
    "df_TE_expected.printSchema()"
   ]
  },
  {
   "cell_type": "code",
   "execution_count": 21,
   "id": "conditional-armenia",
   "metadata": {},
   "outputs": [
    {
     "name": "stdout",
     "output_type": "stream",
     "text": [
      "Time cost: 2889.5364854335785\n",
      "number of rows: 1792989718\n"
     ]
    }
   ],
   "source": [
    "t0 = time.time()\n",
    "\n",
    "num_row = df_TE_expected.count()\n",
    "\n",
    "t1 = time.time()\n",
    "t_count_TE_expected = t1 - t0\n",
    "print(\"Time cost:\", t_count_TE_expected)\n",
    "print(\"number of rows:\", num_row)"
   ]
  },
  {
   "cell_type": "markdown",
   "id": "instant-attribute",
   "metadata": {},
   "source": [
    "### concatenate the relations in one DataFrame"
   ]
  },
  {
   "cell_type": "code",
   "execution_count": 22,
   "id": "chinese-theme",
   "metadata": {},
   "outputs": [
    {
     "name": "stdout",
     "output_type": "stream",
     "text": [
      "root\n",
      " |-- Ver: integer (nullable = true)\n",
      " |-- VT: array (nullable = true)\n",
      " |    |-- element: array (containsNull = true)\n",
      " |    |    |-- element: integer (containsNull = true)\n",
      " |-- VF: array (nullable = true)\n",
      " |    |-- element: array (containsNull = true)\n",
      " |    |    |-- element: integer (containsNull = true)\n",
      "\n"
     ]
    }
   ],
   "source": [
    "df_VT_VF = df_VT.join(df_VF, df_VT.Ver == df_VF.Ver)\n",
    "df_VT_VF = df_VT_VF.select(df_VT.Ver, \"VT\", \"VF\")\n",
    "\n",
    "df_VT_VF.printSchema()"
   ]
  },
  {
   "cell_type": "code",
   "execution_count": 23,
   "id": "specialized-above",
   "metadata": {},
   "outputs": [
    {
     "name": "stdout",
     "output_type": "stream",
     "text": [
      "root\n",
      " |-- Ver: integer (nullable = true)\n",
      " |-- VT: array (nullable = true)\n",
      " |    |-- element: array (containsNull = true)\n",
      " |    |    |-- element: integer (containsNull = true)\n",
      " |-- VF: array (nullable = true)\n",
      " |    |-- element: array (containsNull = true)\n",
      " |    |    |-- element: integer (containsNull = true)\n",
      " |-- VV: array (nullable = true)\n",
      " |    |-- element: integer (containsNull = true)\n",
      "\n"
     ]
    }
   ],
   "source": [
    "df_VT_VF_VV = df_VT_VF.join(df_VV, df_VT_VF.Ver == df_VV.Ver)\n",
    "df_VT_VF_VV = df_VT_VF_VV.select(df_VT_VF.Ver, \"VT\", \"VF\", \"VV\")\n",
    "\n",
    "df_VT_VF_VV.printSchema()"
   ]
  },
  {
   "cell_type": "code",
   "execution_count": 24,
   "id": "compound-entrepreneur",
   "metadata": {},
   "outputs": [
    {
     "name": "stdout",
     "output_type": "stream",
     "text": [
      "root\n",
      " |-- Ver: integer (nullable = true)\n",
      " |-- VT: array (nullable = true)\n",
      " |    |-- element: array (containsNull = true)\n",
      " |    |    |-- element: integer (containsNull = true)\n",
      " |-- VF: array (nullable = true)\n",
      " |    |-- element: array (containsNull = true)\n",
      " |    |    |-- element: integer (containsNull = true)\n",
      " |-- VV: array (nullable = true)\n",
      " |    |-- element: integer (containsNull = true)\n",
      " |-- TE_final: array (nullable = true)\n",
      " |    |-- element: array (containsNull = true)\n",
      " |    |    |-- element: array (containsNull = true)\n",
      " |    |    |    |-- element: array (containsNull = true)\n",
      " |    |    |    |    |-- element: integer (containsNull = true)\n",
      "\n"
     ]
    }
   ],
   "source": [
    "df_VT_VF_VV_TE = df_VT_VF_VV.join(df_TE_expected, df_VT_VF_VV.Ver == df_TE_expected.Ver)\n",
    "df_VT_VF_VV_TE = df_VT_VF_VV_TE.select(df_VT_VF_VV.Ver, \"VT\", \"VF\", \"VV\", \"TE_final\")\n",
    "\n",
    "df_VT_VF_VV_TE.printSchema()"
   ]
  },
  {
   "cell_type": "code",
   "execution_count": 25,
   "id": "reflected-sherman",
   "metadata": {},
   "outputs": [
    {
     "name": "stdout",
     "output_type": "stream",
     "text": [
      "root\n",
      " |-- Ver: integer (nullable = true)\n",
      " |-- VT: array (nullable = true)\n",
      " |    |-- element: array (containsNull = true)\n",
      " |    |    |-- element: integer (containsNull = true)\n",
      " |-- VF: array (nullable = true)\n",
      " |    |-- element: array (containsNull = true)\n",
      " |    |    |-- element: integer (containsNull = true)\n",
      " |-- VV: array (nullable = true)\n",
      " |    |-- element: integer (containsNull = true)\n",
      " |-- TE_final: array (nullable = true)\n",
      " |    |-- element: array (containsNull = true)\n",
      " |    |    |-- element: array (containsNull = true)\n",
      " |    |    |    |-- element: array (containsNull = true)\n",
      " |    |    |    |    |-- element: integer (containsNull = true)\n",
      " |-- BoundaryOrNot: boolean (nullable = true)\n",
      "\n"
     ]
    }
   ],
   "source": [
    "def bool_boundary(VT, VF):\n",
    "    # check if Ver is a boundary vertex or internal vertex\n",
    "    if 3*len(VT) == 2*len(VF):\n",
    "        # this is an internal vertex\n",
    "        return False\n",
    "    else:\n",
    "        return True\n",
    "\n",
    "bool_boundary_udf = udf(bool_boundary, BooleanType())\n",
    "\n",
    "df_Crit_rela = df_VT_VF_VV_TE.withColumn(\"BoundaryOrNot\", bool_boundary_udf(df_VT_VF_VV_TE.VT, df_VT_VF_VV_TE.VF))\n",
    "df_Crit_rela.printSchema()"
   ]
  },
  {
   "cell_type": "code",
   "execution_count": 26,
   "id": "short-protocol",
   "metadata": {},
   "outputs": [
    {
     "name": "stdout",
     "output_type": "stream",
     "text": [
      "Time cost: 3812.731728553772\n",
      "number of rows: 1792989718\n"
     ]
    }
   ],
   "source": [
    "t0 = time.time()\n",
    "\n",
    "num_row = df_Crit_rela.count()\n",
    "\n",
    "t1 = time.time()\n",
    "t_count_Crit_rela = t1 - t0\n",
    "print(\"Time cost:\", t_count_Crit_rela)\n",
    "print(\"number of rows:\", num_row)"
   ]
  },
  {
   "cell_type": "markdown",
   "id": "mobile-operations",
   "metadata": {},
   "source": [
    "### extracting critical points"
   ]
  },
  {
   "cell_type": "code",
   "execution_count": 27,
   "id": "chinese-discretion",
   "metadata": {},
   "outputs": [],
   "source": [
    "# define UnionFind class outside the UDF\n",
    "# the UnionFind class is an implementation of Union-Find algorithm\n",
    "class UnionFind:\n",
    "    def __init__(self, size):\n",
    "        self.root = list(range(size))\n",
    "        self.rank = [1] * size\n",
    "\n",
    "    def find(self, x):\n",
    "        if self.root[x] != x:\n",
    "            self.root[x] = self.find(self.root[x])\n",
    "        return self.root[x]\n",
    "\n",
    "    def union(self, x, y):\n",
    "        rootX = self.find(x)\n",
    "        rootY = self.find(y)\n",
    "        if rootX != rootY:\n",
    "            if self.rank[rootX] > self.rank[rootY]:\n",
    "                self.root[rootY] = rootX\n",
    "            elif self.rank[rootX] < self.rank[rootY]:\n",
    "                self.root[rootX] = rootY\n",
    "            else:\n",
    "                self.root[rootY] = rootX\n",
    "                self.rank[rootX] += 1"
   ]
  },
  {
   "cell_type": "code",
   "execution_count": 28,
   "id": "historical-tuesday",
   "metadata": {},
   "outputs": [
    {
     "name": "stdout",
     "output_type": "stream",
     "text": [
      "root\n",
      " |-- Ver: integer (nullable = true)\n",
      " |-- VT: array (nullable = true)\n",
      " |    |-- element: array (containsNull = true)\n",
      " |    |    |-- element: integer (containsNull = true)\n",
      " |-- VF: array (nullable = true)\n",
      " |    |-- element: array (containsNull = true)\n",
      " |    |    |-- element: integer (containsNull = true)\n",
      " |-- VV: array (nullable = true)\n",
      " |    |-- element: integer (containsNull = true)\n",
      " |-- TE_final: array (nullable = true)\n",
      " |    |-- element: array (containsNull = true)\n",
      " |    |    |-- element: array (containsNull = true)\n",
      " |    |    |    |-- element: array (containsNull = true)\n",
      " |    |    |    |    |-- element: integer (containsNull = true)\n",
      " |-- BoundaryOrNot: boolean (nullable = true)\n",
      " |-- Crit_Type: string (nullable = true)\n",
      "\n"
     ]
    }
   ],
   "source": [
    "# define an UDF to extracting critical vertices\n",
    "def compute_crit_pts(Ver, VV, TE):\n",
    "    # store VV in two groups, one group for vertices whose scala value is greater than Ver, the other is lower than Ver\n",
    "    above_threshold = []\n",
    "    below_threshold = []\n",
    "    for v in VV:\n",
    "        if v > Ver:\n",
    "            above_threshold.append(v)\n",
    "        else: # v < Ver, v is unique so v will never be equal to Ver\n",
    "            below_threshold.append(v)\n",
    "    \n",
    "    # filter TE to only store edges that are incident in Ver\n",
    "    edges = []\n",
    "    for i in range(len(TE)):\n",
    "        for e in TE[i][1]: # TE[i][1] = [e1, e2, e3, e4, e5, e6]\n",
    "            if Ver in e:\n",
    "                edges.append(e)\n",
    "    \n",
    "    def find_components(vertices):\n",
    "        uf = UnionFind(len(vertices))\n",
    "        vertex_to_index = {vertex: i for i, vertex in enumerate(vertices)}\n",
    "        for v1, v2 in edges:\n",
    "            if v1 in vertex_to_index and v2 in vertex_to_index:\n",
    "                uf.union(vertex_to_index[v1], vertex_to_index[v2])\n",
    "        component_map = {}\n",
    "        for vertex in vertices:\n",
    "            root = uf.find(vertex_to_index[vertex])\n",
    "            if root not in component_map:\n",
    "                component_map[root] = []\n",
    "            component_map[root].append(vertex)\n",
    "        return list(component_map.values())\n",
    "    \n",
    "    # upper_list is a list of lists, which stores all vertices in the link of Ver; those vertices have higher scalar values \n",
    "    upper_list = find_components(above_threshold)\n",
    "    lower_list = find_components(below_threshold)\n",
    "    \n",
    "    # the current Ver is a maximum\n",
    "    if len(upper_list) == 0:\n",
    "        crit_type = 'maximum'\n",
    "        return crit_type\n",
    "        \n",
    "    # the current Ver is a minimum\n",
    "    elif len(lower_list) == 0:\n",
    "        crit_type = 'minimum'\n",
    "        return crit_type\n",
    "    \n",
    "    # the current Ver is a 1-saddle\n",
    "    elif len(upper_list) == 1 and len(lower_list) == 1:\n",
    "        crit_type = 'regular'\n",
    "        return crit_type\n",
    "    \n",
    "    # the current Ver is a 1-saddle\n",
    "    elif len(upper_list) == 2 and len(lower_list) == 1:\n",
    "        crit_type = '1-saddle'\n",
    "        return crit_type\n",
    "    \n",
    "    # the current Ver is a 2-saddle\n",
    "    elif len(upper_list) == 1 and len(lower_list) == 2:\n",
    "        crit_type = '2-saddle'\n",
    "        return crit_type\n",
    "    \n",
    "    else:\n",
    "        crit_type = 'monkey-saddle'\n",
    "        return crit_type\n",
    "\n",
    "compute_crit_pts_udf = udf(compute_crit_pts, StringType())\n",
    "\n",
    "df_Crit = df_Crit_rela.withColumn(\"Crit_Type\", compute_crit_pts_udf(df_Crit_rela.Ver, df_Crit_rela.VV, df_Crit_rela.TE_final))\n",
    "df_Crit.printSchema()"
   ]
  },
  {
   "cell_type": "code",
   "execution_count": 29,
   "id": "simple-notice",
   "metadata": {},
   "outputs": [
    {
     "name": "stdout",
     "output_type": "stream",
     "text": [
      "Time cost: 3881.167540073395\n",
      "number of rows: 1792989718\n"
     ]
    }
   ],
   "source": [
    "t0 = time.time()\n",
    "\n",
    "num_row = df_Crit.count()\n",
    "\n",
    "t1 = time.time()\n",
    "t_count_Crit = t1 - t0\n",
    "print(\"Time cost:\", t_count_Crit)\n",
    "print(\"number of rows:\", num_row)"
   ]
  },
  {
   "cell_type": "code",
   "execution_count": 30,
   "id": "closed-couple",
   "metadata": {},
   "outputs": [
    {
     "name": "stdout",
     "output_type": "stream",
     "text": [
      "****************************\n",
      "Time cost for preparing VT: 501.4889419078827\n",
      "Time cost for preparing VF: 460.74542474746704\n",
      "Time cost for preparing VV: 455.9120762348175\n",
      "Time cost for preparing TE: 2889.5364854335785\n",
      "Time cost for concatenate the relations: 3812.731728553772\n",
      "Total time cost for preparing the relations: 8120.414656877518\n",
      "****************************\n",
      "Time cost for calculating the critical points: 3881.167540073395\n",
      "****************************\n",
      "Total time cost: 12001.582196950912\n"
     ]
    }
   ],
   "source": [
    "print(\"****************************\")\n",
    "print(\"Time cost for preparing VT:\", t_count_VT)\n",
    "print(\"Time cost for preparing VF:\", t_count_VF)\n",
    "print(\"Time cost for preparing VV:\", t_count_VV)\n",
    "print(\"Time cost for preparing TE:\", t_count_TE_expected)\n",
    "\n",
    "print(\"Time cost for concatenate the relations:\", t_count_Crit_rela)\n",
    "print(\"Total time cost for preparing the relations:\", t_count_VT + t_count_VF + t_count_VV + t_count_TE_expected + t_count_Crit_rela)\n",
    "\n",
    "print(\"****************************\")\n",
    "print(\"Time cost for calculating the critical points:\", t_count_Crit)\n",
    "\n",
    "print(\"****************************\")\n",
    "print(\"Total time cost:\", t_count_VT + t_count_VF + t_count_VV + t_count_TE_expected + t_count_Crit_rela + t_count_Crit)"
   ]
  }
 ],
 "metadata": {
  "kernelspec": {
   "display_name": "Python 3",
   "language": "python",
   "name": "python3"
  },
  "language_info": {
   "codemirror_mode": {
    "name": "ipython",
    "version": 3
   },
   "file_extension": ".py",
   "mimetype": "text/x-python",
   "name": "python",
   "nbconvert_exporter": "python",
   "pygments_lexer": "ipython3",
   "version": "3.7.7"
  }
 },
 "nbformat": 4,
 "nbformat_minor": 5
}
