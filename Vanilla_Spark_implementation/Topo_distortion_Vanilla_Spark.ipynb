{
 "cells": [
  {
   "cell_type": "code",
   "execution_count": 1,
   "id": "other-chase",
   "metadata": {},
   "outputs": [],
   "source": [
    "import findspark\n",
    "import os\n",
    "import gc\n",
    "#findspark.init() \n",
    "SPARK_HOME='/opt/cloudera/parcels/CDH/lib/spark'\n",
    "findspark.init(SPARK_HOME)\n",
    "\n",
    "import time\n",
    "import math\n",
    "import copy\n",
    "import csv\n",
    "import json\n",
    "import os\n",
    "import codecs\n",
    "import subprocess\n",
    "import numpy as np\n",
    "from pyspark import SQLContext\n",
    "from pyspark.sql import Row\n",
    "from pyspark.sql import functions as F\n",
    "from pyspark.sql.functions import size, array_union,flatten,array_sort,coalesce,broadcast,collect_list, collect_set, udf, array_remove, log, lit, first, col, array, sort_array,split, explode, desc, asc, row_number,isnan, when, count\n",
    "from pyspark.sql.types import *\n",
    "import rtree\n",
    "from pyspark.sql import Window\n",
    "import geofeather\n",
    "from pyspark.storagelevel import StorageLevel\n",
    "\n",
    "from pyspark.sql import SparkSession\n",
    "from pyspark import StorageLevel\n",
    "import geopandas as gpd\n",
    "import pandas as pd\n",
    "from pyspark.sql.types import StructType, StructField, StringType, IntegerType, LongType, FloatType, ArrayType, MapType\n",
    "from shapely.geometry import Point\n",
    "from shapely.geometry import Polygon\n",
    "\n",
    "from sedona.register import SedonaRegistrator\n",
    "from sedona.core.SpatialRDD import SpatialRDD, PointRDD, CircleRDD, PolygonRDD, LineStringRDD\n",
    "from sedona.core.enums import FileDataSplitter\n",
    "from sedona.utils.adapter import Adapter\n",
    "from sedona.core.spatialOperator import KNNQuery\n",
    "from sedona.core.spatialOperator import JoinQuery\n",
    "from sedona.core.spatialOperator import JoinQueryRaw\n",
    "from sedona.core.spatialOperator import RangeQuery\n",
    "from sedona.core.spatialOperator import RangeQueryRaw\n",
    "from sedona.core.formatMapper.shapefileParser import ShapefileReader\n",
    "from sedona.core.formatMapper import WkbReader\n",
    "from sedona.core.formatMapper import WktReader\n",
    "from sedona.core.formatMapper import GeoJsonReader\n",
    "from sedona.sql.types import GeometryType\n",
    "from sedona.core.enums import GridType\n",
    "from sedona.core.SpatialRDD import RectangleRDD\n",
    "from sedona.core.enums import IndexType\n",
    "from sedona.core.geom.envelope import Envelope\n",
    "from sedona.utils import SedonaKryoRegistrator, KryoSerializer\n",
    "\n",
    "os.environ['PYSPARK_PYTHON'] = \"./environment/bin/python\"\n",
    "#os.environ['PYSPARK_PYTHON'] = \"/home/qiany/.conda/envs/py37/bin/python\"\n",
    "os.environ['YARN_CONF_DIR'] = \"/opt/cloudera/parcels/CDH/lib/spark/conf/yarn-conf\""
   ]
  },
  {
   "cell_type": "code",
   "execution_count": 2,
   "id": "smooth-poison",
   "metadata": {},
   "outputs": [
    {
     "name": "stdout",
     "output_type": "stream",
     "text": [
      "\n",
      "********************\n",
      "tin_directory:  /home/qiany/yuehui/pyspark/Tetra_mesh/data\n",
      "tin_basename:  brain.ts\n",
      "tin_filename:  brain\n",
      "tin_extension:  .ts\n",
      "\n",
      "********************\n",
      "This is a TIN file in \".ts\" format\n"
     ]
    }
   ],
   "source": [
    "tin_file = input(\"Here is a programe to extract boundary relations, please input the absolute or relative path to your .ts file:\")\n",
    "\n",
    "# get the directory, basename of the input file\n",
    "print(\"\\n********************\")\n",
    "tin_directory = os.path.dirname(tin_file)\n",
    "print(\"tin_directory: \", tin_directory)\n",
    "\n",
    "directory_type = input(\"Is the data stored in hdfs(0) or Tri_data(1) or Tetra_data (2):\") or \"2\"\n",
    "\n",
    "if directory_type == '0':\n",
    "    directory = 'hdfs_data'\n",
    "elif directory_type == '1':\n",
    "    directory = 'Tri_data'\n",
    "else:\n",
    "    directory = 'Tetra_data'\n",
    "    \n",
    "tin_basename = os.path.basename(tin_file) # input_vertices_2.off\n",
    "print(\"tin_basename: \", tin_basename)\n",
    "\n",
    "tin_filename = os.path.splitext(tin_basename)[0] # input_vertices_2\n",
    "print(\"tin_filename: \", tin_filename)\n",
    "\n",
    "tin_extension = os.path.splitext(tin_basename)[1] # .off\n",
    "print(\"tin_extension: \", tin_extension)\n",
    "\n",
    "print(\"\\n********************\")\n",
    "print(\"This is a TIN file in \\\"%s\\\" format\" % tin_extension)\n",
    "\n",
    "filtra = 'yes'\n",
    "\n",
    "# allocate the number of executors, the number of cores per executor, and the amount of memory per executor\n",
    "Num_executor = '64'\n",
    "Num_core_per_executor = '5'\n",
    "Memory_executor = '64g'\n",
    "MemoryOverhead_executor = '8g'\n",
    "\n",
    "# allocate the number of cores for the driver node\n",
    "Num_core_per_driver = '5'\n",
    "Memory_driver = '64g'\n",
    "MemoryOverhead_driver = '32g'\n",
    "\n",
    "# the default number of shuffle partitions\n",
    "Num_shuffle_partitions = input(\"spark.sql.shuffle.partitions:\")"
   ]
  },
  {
   "cell_type": "code",
   "execution_count": 3,
   "id": "chinese-virginia",
   "metadata": {},
   "outputs": [
    {
     "name": "stdout",
     "output_type": "stream",
     "text": [
      "spark_app_name: TopoRela_Curv_separate_TetraMesh_brain_06152024_1836\n"
     ]
    }
   ],
   "source": [
    "'''\n",
    "spark.executor.cores: # Number of concurrent tasks an executor can run, euqals to the number of cores to use on each executor\n",
    "spark.executor.instances: # Number of executors for the spark application\n",
    "spark.executor.memory: # Amount of memory to use for each executor that runs the task\n",
    "spark.executor.memoryOverhead:\n",
    "spark.driver.cores: # Number of cores to use for the driver process; the default number is 1\n",
    "spark.driver.memory: # Amount of memory to use for the driver\n",
    "spark.driver.maxResultSize: to define the maximum limit of the total size of the serialized result that a driver can store for each Spark collect action\n",
    "spark.default.parallelism: # Default number of partitions in RDDs returned by transformations like join, reduceByKey, and parallelize when not set by user. It can be set as spark.executor.instances * spark.executor.cores * 2\n",
    "spark.sql.shuffle.partitions: determine how many partitions are used when data is shuffled between nodes, e.g., joins or aggregations. usually 1~5 times of executor.instances * executor.cores\n",
    "spark.memory.storageFraction: determines the fraction of the heap space that is allocated to caching RDDs and DataFrames in memory.\n",
    "spark.kryoserializer.buffer.max: determine the maximum of data that can be serialized at once; this must be larger than any object we attempt to serialize\n",
    "spark.rpc.message.maxSize: # Maximum message size (in MiB) to allow in \"control plane\" communication; generally only applies to map output size information sent between executors and the driver. To communicate between the nodes, Spark uses a protocol called RPC (Remote Procedure Call), which sends messages back and forth. The spark.rpc.message.maxSize parameter limits how big these messages can be. \n",
    "spark.sql.broadcastTimeout: Spark will wait for this amount of time before giving up on broadcasting a table. Broadcasting can take a long time if the table is large or if there is a shuffle operation before it.\n",
    "spark.sql.autoBroadcastJoinThreshold: Spark will broadcast a table to all worker nodes when performing a join if its size is less than this value; -1 means disabling broadcasting\n",
    "'''\n",
    "\n",
    "date = time.strftime(\"%m,%d,%Y\")\n",
    "date_name = date.split(',')[0] + date.split(',')[1] + date.split(',')[2]\n",
    "\n",
    "hour = time.strftime(\"%H,%M\")\n",
    "hour_name = hour.split(',')[0] + hour.split(',')[1]\n",
    "\n",
    "spark_app_name = \"TopoRela_Curv_separate_TetraMesh_\" + tin_filename + '_' + date_name + '_' + hour_name\n",
    "print(\"spark_app_name:\", spark_app_name)\n",
    "\n",
    "spark = SparkSession \\\n",
    ".builder \\\n",
    ".appName(spark_app_name) \\\n",
    ".master('yarn') \\\n",
    ".config(\"spark.serializer\", KryoSerializer.getName) \\\n",
    ".config('spark.jars','sedona-core-2.4_2.11-1.0.0-incubating.jar,sedona-sql-2.4_2.11-1.0.0-incubating.jar,sedona-python-adapter-2.4_2.11-1.0.0-incubating.jar,sedona-viz-2.4_2.11-1.0.0-incubating.jar,geotools-wrapper-geotools-24.0.jar,graphframes-0.8.0-spark2.4-s_2.11.jar') \\\n",
    ".config('spark.executor.cores', Num_core_per_executor) \\\n",
    ".config('spark.executor.instances', Num_executor) \\\n",
    ".config('spark.executor.memory', Memory_executor) \\\n",
    ".config('spark.executor.memoryOverhead', MemoryOverhead_executor) \\\n",
    ".config('spark.driver.cores', Num_core_per_driver) \\\n",
    ".config('spark.driver.memory', Memory_driver) \\\n",
    ".config('spark.driver.memoryOverhead', MemoryOverhead_driver) \\\n",
    ".config('spark.driver.maxResultSize', '0') \\\n",
    ".config('spark.dynamicAllocation.enabled', 'false') \\\n",
    ".config('spark.network.timeout', '10000001s') \\\n",
    ".config('spark.executor.heartbeatInterval', '10000000s') \\\n",
    ".config('spark.sql.shuffle.partitions', Num_shuffle_partitions) \\\n",
    ".config(\"spark.default.parallelism\", '400') \\\n",
    ".config(\"spark.kryoserializer.buffer.max\", \"1024mb\") \\\n",
    ".config('spark.rpc.message.maxSize', '256') \\\n",
    ".config(\"spark.sql.broadcastTimeout\", \"36000\") \\\n",
    ".config(\"spark.sql.autoBroadcastJoinThreshold\", \"-1\") \\\n",
    ".config(\"spark.sql.objectHashAggregate.sortBased.fallbackThreshold\", \"-1\") \\\n",
    ".config('spark.yarn.dist.archives', '/local/data/yuehui/py37.tar.gz#environment') \\\n",
    ".config(\"spark.python.profile\", \"true\") \\\n",
    ".config(\"spark.eventLog.enabled\", \"true\") \\\n",
    ".config(\"spark.eventLog.logStageExecutorMetrics\", \"true\") \\\n",
    ".getOrCreate()"
   ]
  },
  {
   "cell_type": "markdown",
   "id": "covered-queue",
   "metadata": {},
   "source": [
    "### read input filesread input files"
   ]
  },
  {
   "cell_type": "code",
   "execution_count": 4,
   "id": "vocal-actress",
   "metadata": {},
   "outputs": [
    {
     "name": "stdout",
     "output_type": "stream",
     "text": [
      "Number of partitions for df_tetra_origin: 200\n",
      "root\n",
      " |-- tetra_order: integer (nullable = true)\n",
      " |-- r1: integer (nullable = true)\n",
      " |-- r2: integer (nullable = true)\n",
      " |-- r3: integer (nullable = true)\n",
      " |-- r4: integer (nullable = true)\n",
      " |-- r1_ele: float (nullable = true)\n",
      " |-- r2_ele: float (nullable = true)\n",
      " |-- r3_ele: float (nullable = true)\n",
      " |-- r4_ele: float (nullable = true)\n",
      "\n"
     ]
    }
   ],
   "source": [
    "# read_tetra_order() is a function used to read tetrahedron from a csv file\n",
    "def read_tetra_order(hdfs_tetra_origin):\n",
    "    '''\n",
    "    this function has two input parameters.\n",
    "    filtra: 'yes' or 'no', yes means that the input csv file is ordered by default\n",
    "    directory: a string denoting the directory to a tetrahedra file\n",
    "    tin_filename: a string denoting the file name of a tetrahedra extension, e.g., 827_monviso\n",
    "    '''\n",
    "        \n",
    "    schema_tetra_origin = StructType([ \\\n",
    "        StructField(\"tetra_order\",IntegerType(),True), \\\n",
    "        StructField(\"r1\",IntegerType(),True), \\\n",
    "        StructField(\"r2\",IntegerType(),True), \\\n",
    "        StructField(\"r3\",IntegerType(),True), \\\n",
    "        StructField(\"r4\",IntegerType(),True), \\\n",
    "        StructField(\"r1_ele\",FloatType(),True), \\\n",
    "        StructField(\"r2_ele\",FloatType(),True), \\\n",
    "        StructField(\"r3_ele\",FloatType(),True), \\\n",
    "        StructField(\"r4_ele\",FloatType(),True) \\\n",
    "      ])\n",
    "\n",
    "    df_tetra_origin = spark.read.format(\"csv\") \\\n",
    "          .option(\"header\", False) \\\n",
    "          .schema(schema_tetra_origin)\\\n",
    "          .load(hdfs_tetra_origin)\n",
    "        \n",
    "    return df_tetra_origin\n",
    "\n",
    "\n",
    "# read tetrahedra\n",
    "hdfs_tetra_origin = directory + \"/\" + tin_filename + '_filtra_tetra_sort.csv'\n",
    "\n",
    "df_tetra_order = read_tetra_order(hdfs_tetra_origin)\n",
    "df_tetra_order.printSchema()"
   ]
  },
  {
   "cell_type": "code",
   "execution_count": 5,
   "id": "combined-bhutan",
   "metadata": {},
   "outputs": [
    {
     "name": "stdout",
     "output_type": "stream",
     "text": [
      "root\n",
      " |-- x: float (nullable = true)\n",
      " |-- y: float (nullable = true)\n",
      " |-- z: float (nullable = true)\n",
      " |-- ele: float (nullable = true)\n",
      " |-- self_index: integer (nullable = true)\n",
      "\n"
     ]
    }
   ],
   "source": [
    "# read_ver_order() is a function used to read vertices from a csv file\n",
    "def read_ver_order(hdfs_tin_pts_origin):\n",
    "    '''\n",
    "    this function has three input parameters.\n",
    "    filtra: 'yes' or 'no', yes means that the input csv file is ordered by default\n",
    "    directory: a string denoting the directory to a TIN file\n",
    "    tin_filename: a string denoting the file name of a TIN without extension, e.g., Canyon_Lake_Gorge_TX\n",
    "    '''\n",
    "    schema_ver_origin = StructType([ \\\n",
    "        StructField(\"x\",FloatType(),True), \\\n",
    "        StructField(\"y\",FloatType(),True), \\\n",
    "        StructField(\"z\",FloatType(),True), \\\n",
    "        StructField(\"ele\",FloatType(),True), \\\n",
    "        StructField(\"self_index\",IntegerType(),True)\n",
    "      ])\n",
    "    \n",
    "    df_ver_order = spark.read.format(\"csv\") \\\n",
    "          .option(\"header\", False) \\\n",
    "          .schema(schema_ver_origin)\\\n",
    "          .load(hdfs_tin_pts_origin)\n",
    "        \n",
    "    return df_ver_order\n",
    "\n",
    "hdfs_tin_pts_origin = directory + \"/\" + tin_filename + '_pts_origin.csv'\n",
    "\n",
    "df_ver_order = read_ver_order(hdfs_tin_pts_origin)\n",
    "df_ver_order.printSchema()"
   ]
  },
  {
   "cell_type": "code",
   "execution_count": 6,
   "id": "clinical-australian",
   "metadata": {},
   "outputs": [
    {
     "name": "stdout",
     "output_type": "stream",
     "text": [
      "root\n",
      " |-- self_index: integer (nullable = true)\n",
      " |-- coor: array (nullable = false)\n",
      " |    |-- element: float (containsNull = true)\n",
      "\n"
     ]
    }
   ],
   "source": [
    "df_ver_order = df_ver_order.withColumn(\"coor\", array('x', 'y', 'z', 'ele')).drop('x', 'y', 'z', 'ele')\n",
    "\n",
    "df_ver_order.printSchema()"
   ]
  },
  {
   "cell_type": "markdown",
   "id": "wound-sixth",
   "metadata": {},
   "source": [
    "### globally obtain VT relation"
   ]
  },
  {
   "cell_type": "code",
   "execution_count": 7,
   "id": "pressed-uzbekistan",
   "metadata": {},
   "outputs": [],
   "source": [
    "# function to get VT directly from DF_T\n",
    "def get_VT(df_tetra_order):\n",
    "    df_tetra_order = df_tetra_order.withColumn(\"tetra\", sort_array(F.array(\"r1\", \"r2\", \"r3\", \"r4\"), False))\n",
    "    df_VT_init_1 = df_tetra_order.select(\"r1\",\"tetra\")\n",
    "    df_VT_init_2 = df_tetra_order.select(\"r2\",\"tetra\")\n",
    "    df_VT_init_3 = df_tetra_order.select(\"r3\",\"tetra\")\n",
    "    df_VT_init_4 = df_tetra_order.select(\"r4\",\"tetra\")\n",
    "    \n",
    "    df_VT_union12 = df_VT_init_1.union(df_VT_init_2)\n",
    "    df_VT_union123 = df_VT_union12.union(df_VT_init_3)\n",
    "    df_VT_union1234 = df_VT_union123.union(df_VT_init_4)\n",
    "    \n",
    "    df_VT = df_VT_union1234.groupBy('r1').agg(collect_list('tetra').alias('VT'))\n",
    "    df_VT = df_VT.withColumnRenamed('r1', 'Ver')\n",
    "    \n",
    "    return df_VT"
   ]
  },
  {
   "cell_type": "code",
   "execution_count": 8,
   "id": "juvenile-korea",
   "metadata": {},
   "outputs": [
    {
     "name": "stdout",
     "output_type": "stream",
     "text": [
      "root\n",
      " |-- Ver: integer (nullable = true)\n",
      " |-- VT: array (nullable = true)\n",
      " |    |-- element: array (containsNull = true)\n",
      " |    |    |-- element: integer (containsNull = true)\n",
      "\n"
     ]
    }
   ],
   "source": [
    "df_VT = get_VT(df_tetra_order)\n",
    "\n",
    "df_VT.printSchema()"
   ]
  },
  {
   "cell_type": "code",
   "execution_count": 9,
   "id": "significant-playback",
   "metadata": {},
   "outputs": [
    {
     "name": "stdout",
     "output_type": "stream",
     "text": [
      "Time cost: 24.488054037094116\n",
      "number of rows: 326683\n"
     ]
    }
   ],
   "source": [
    "t0 = time.time()\n",
    "\n",
    "num_row = df_VT.count()\n",
    "\n",
    "t1 = time.time()\n",
    "t_count_VT = t1 - t0\n",
    "print(\"Time cost:\", t_count_VT)\n",
    "print(\"number of rows:\", num_row)"
   ]
  },
  {
   "cell_type": "markdown",
   "id": "rising-contrast",
   "metadata": {},
   "source": [
    "### globally obtain VF relation"
   ]
  },
  {
   "cell_type": "code",
   "execution_count": 10,
   "id": "natural-story",
   "metadata": {},
   "outputs": [
    {
     "name": "stdout",
     "output_type": "stream",
     "text": [
      "root\n",
      " |-- r1: integer (nullable = true)\n",
      " |-- multi_f1: array (nullable = true)\n",
      " |    |-- element: array (containsNull = true)\n",
      " |    |    |-- element: integer (containsNull = true)\n",
      " |-- multi_f2: array (nullable = true)\n",
      " |    |-- element: array (containsNull = true)\n",
      " |    |    |-- element: integer (containsNull = true)\n",
      " |-- multi_f3: array (nullable = true)\n",
      " |    |-- element: array (containsNull = true)\n",
      " |    |    |-- element: integer (containsNull = true)\n",
      "\n"
     ]
    }
   ],
   "source": [
    "# function to get VF from DF_T\n",
    "def get_VF_init(df_tetra_order):\n",
    "    df_VF_1 = df_tetra_order.withColumn(\"f1\", sort_array(F.array(\"r1\", \"r2\", \"r3\"), False)).withColumn(\"f2\", sort_array(F.array(\"r1\", \"r2\", \"r4\"), False)).withColumn(\"f3\", sort_array(F.array(\"r1\", \"r3\", \"r4\"), False)).drop('r2', 'r3', 'r4')\n",
    "    df_VF_2 = df_tetra_order.withColumn(\"f1\", sort_array(F.array(\"r2\", \"r1\", \"r3\"), False)).withColumn(\"f2\", sort_array(F.array(\"r2\", \"r1\", \"r4\"), False)).withColumn(\"f3\", sort_array(F.array(\"r2\", \"r3\", \"r4\"), False)).drop('r1', 'r3', 'r4')\n",
    "    df_VF_3 = df_tetra_order.withColumn(\"f1\", sort_array(F.array(\"r3\", \"r1\", \"r2\"), False)).withColumn(\"f2\", sort_array(F.array(\"r3\", \"r1\", \"r4\"), False)).withColumn(\"f3\", sort_array(F.array(\"r3\", \"r2\", \"r4\"), False)).drop('r1', 'r2', 'r4')\n",
    "    df_VF_4 = df_tetra_order.withColumn(\"f1\", sort_array(F.array(\"r4\", \"r1\", \"r2\"), False)).withColumn(\"f2\", sort_array(F.array(\"r4\", \"r1\", \"r3\"), False)).withColumn(\"f3\", sort_array(F.array(\"r4\", \"r2\", \"r3\"), False)).drop('r1', 'r2', 'r3')\n",
    "    \n",
    "    df_VF_union12 = df_VF_1.union(df_VF_2)\n",
    "    df_VF_union123 = df_VF_union12.union(df_VF_3)\n",
    "    df_VF_union1234 = df_VF_union123.union(df_VF_4)\n",
    "    \n",
    "    df_VF_init = df_VF_union1234.groupBy('r1').agg(collect_set('f1').alias('multi_f1'), collect_set('f2').alias('multi_f2'), collect_set('f3').alias('multi_f3'))\n",
    "    return df_VF_init\n",
    "\n",
    "df_VF_init = get_VF_init(df_tetra_order)\n",
    "\n",
    "# df_VE_init.cache()\n",
    "\n",
    "df_VF_init.printSchema()"
   ]
  },
  {
   "cell_type": "code",
   "execution_count": 11,
   "id": "worthy-organizer",
   "metadata": {},
   "outputs": [
    {
     "name": "stdout",
     "output_type": "stream",
     "text": [
      "root\n",
      " |-- Ver: integer (nullable = true)\n",
      " |-- VF: array (nullable = true)\n",
      " |    |-- element: array (containsNull = true)\n",
      " |    |    |-- element: integer (containsNull = true)\n",
      "\n"
     ]
    }
   ],
   "source": [
    "# obtain VF relation\n",
    "def get_VF(multi_f1, multi_f2, multi_f3):\n",
    "# get_VF is used to obtain a complete VF relation from the partial VF relations\n",
    "# multi_f1: partial VF relation\n",
    "# multi_f2: partial VF relation\n",
    "# multi_f3: partial VF relation\n",
    "\n",
    "    faces = set()\n",
    "    for f in multi_f1:\n",
    "        faces.add(tuple(f))\n",
    "        \n",
    "    for f in multi_f2:\n",
    "        faces.add(tuple(f))\n",
    "        \n",
    "    for f in multi_f3:\n",
    "        faces.add(tuple(f))\n",
    "    \n",
    "    faces_list = sorted(faces) # save more time when using list(faces)\n",
    "    \n",
    "    return faces_list\n",
    "\n",
    "# convert a function to an udf and determine the return type\n",
    "# https://spark.apache.org/docs/3.1.3/api/python/reference/api/pyspark.sql.functions.udf.html\n",
    "get_VF_udf = udf(get_VF, ArrayType(ArrayType(IntegerType())))\n",
    "\n",
    "df_VF = df_VF_init.withColumn(\"VF\", get_VF_udf(df_VF_init.multi_f1, df_VF_init.multi_f2, df_VF_init.multi_f3)).drop('multi_f1', 'multi_f2', 'multi_f3')\n",
    "df_VF = df_VF.withColumnRenamed('r1', 'Ver')\n",
    "\n",
    "df_VF.printSchema()"
   ]
  },
  {
   "cell_type": "code",
   "execution_count": 12,
   "id": "closed-voluntary",
   "metadata": {},
   "outputs": [
    {
     "name": "stdout",
     "output_type": "stream",
     "text": [
      "Time cost: 12.739529848098755\n",
      "number of rows: 326683\n"
     ]
    }
   ],
   "source": [
    "t0 = time.time()\n",
    "\n",
    "num_row = df_VF.count()\n",
    "\n",
    "t1 = time.time()\n",
    "t_count_VF = t1 - t0\n",
    "print(\"Time cost:\", t_count_VF)\n",
    "print(\"number of rows:\", num_row)"
   ]
  },
  {
   "cell_type": "markdown",
   "id": "disabled-billy",
   "metadata": {},
   "source": [
    "### concatenate the relations in one DataFrame"
   ]
  },
  {
   "cell_type": "code",
   "execution_count": 13,
   "id": "silver-arrangement",
   "metadata": {},
   "outputs": [
    {
     "name": "stdout",
     "output_type": "stream",
     "text": [
      "root\n",
      " |-- Ver: integer (nullable = true)\n",
      " |-- VT: array (nullable = true)\n",
      " |    |-- element: array (containsNull = true)\n",
      " |    |    |-- element: integer (containsNull = true)\n",
      " |-- VF: array (nullable = true)\n",
      " |    |-- element: array (containsNull = true)\n",
      " |    |    |-- element: integer (containsNull = true)\n",
      "\n"
     ]
    }
   ],
   "source": [
    "df_Curv_rela_init = df_VT.join(df_VF, df_VT.Ver == df_VF.Ver)\n",
    "df_Curv_rela_init = df_Curv_rela_init.select(df_VT.Ver, \"VT\", \"VF\")\n",
    "\n",
    "df_Curv_rela_init.printSchema()"
   ]
  },
  {
   "cell_type": "code",
   "execution_count": 14,
   "id": "mature-eligibility",
   "metadata": {},
   "outputs": [
    {
     "name": "stdout",
     "output_type": "stream",
     "text": [
      "root\n",
      " |-- Ver: integer (nullable = true)\n",
      " |-- VT: array (nullable = true)\n",
      " |    |-- element: array (containsNull = true)\n",
      " |    |    |-- element: integer (containsNull = true)\n",
      " |-- VF: array (nullable = true)\n",
      " |    |-- element: array (containsNull = true)\n",
      " |    |    |-- element: integer (containsNull = true)\n",
      " |-- BoundaryOrNot: boolean (nullable = true)\n",
      "\n"
     ]
    }
   ],
   "source": [
    "def bool_boundary(VT, VF):\n",
    "    # check if Ver is a boundary vertex or internal vertex\n",
    "    if 3*len(VT) == 2*len(VF):\n",
    "        # this is an internal vertex\n",
    "        return False\n",
    "    else:\n",
    "        return True\n",
    "\n",
    "bool_boundary_udf = udf(bool_boundary, BooleanType())\n",
    "\n",
    "df_Curv_rela = df_Curv_rela_init.withColumn(\"BoundaryOrNot\", bool_boundary_udf(df_Curv_rela_init.VT, df_Curv_rela_init.VF))\n",
    "df_Curv_rela.printSchema()"
   ]
  },
  {
   "cell_type": "code",
   "execution_count": 15,
   "id": "velvet-mixer",
   "metadata": {},
   "outputs": [
    {
     "name": "stdout",
     "output_type": "stream",
     "text": [
      "Time cost: 6.649294137954712\n",
      "number of rows: 326683\n"
     ]
    }
   ],
   "source": [
    "t0 = time.time()\n",
    "\n",
    "num_row = df_Curv_rela.count()\n",
    "\n",
    "t1 = time.time()\n",
    "t_count_rela = t1 - t0\n",
    "print(\"Time cost:\", t_count_rela)\n",
    "print(\"number of rows:\", num_row)"
   ]
  },
  {
   "cell_type": "markdown",
   "id": "modified-philippines",
   "metadata": {},
   "source": [
    "### get coordinates of each vertex"
   ]
  },
  {
   "cell_type": "code",
   "execution_count": 16,
   "id": "practical-simple",
   "metadata": {},
   "outputs": [],
   "source": [
    "# replace_rer() replaces the three vertices with sorted vertices in df_tetra_origin\n",
    "def replace_ver(df_ver_order, df_tetra_order):\n",
    "    '''\n",
    "    df_ver_order: a DataFrame storing sorted vertices\n",
    "    df_tetra_order: a DataFrame storing tetrahedra from a TIN\n",
    "    '''\n",
    "    df_tetra_order_r1 = df_tetra_order.join(df_ver_order, df_tetra_order.r1 == df_ver_order.self_index, \"inner\")\n",
    "    df_tetra_order_r1 = df_tetra_order_r1.select(col(\"tetra_order\"), col(\"r1\"), col(\"r2\"), col(\"r3\"), col(\"r4\"), col(\"coor\").alias(\"r1_coor\"))\n",
    "\n",
    "    df_tetra_order_r2 = df_tetra_order_r1.join(df_ver_order, df_tetra_order_r1.r2 == df_ver_order.self_index, \"inner\")\n",
    "    df_tetra_order_r2 = df_tetra_order_r2.select(col(\"tetra_order\"), col(\"r1\"), col(\"r2\"), col(\"r3\"), col(\"r4\"), col(\"r1_coor\"), col(\"coor\").alias(\"r2_coor\"))\n",
    "\n",
    "    df_tetra_order_r3 = df_tetra_order_r2.join(df_ver_order, df_tetra_order_r2.r3 == df_ver_order.self_index, \"inner\")\n",
    "    df_tetra_order_r3 = df_tetra_order_r3.select(col(\"tetra_order\"), col(\"r1\"), col(\"r2\"), col(\"r3\"), col(\"r4\"), col(\"r1_coor\"), col(\"r2_coor\"), col(\"coor\").alias(\"r3_coor\"))\n",
    "    \n",
    "    df_tetra_order_r4 = df_tetra_order_r3.join(df_ver_order, df_tetra_order_r3.r4 == df_ver_order.self_index, \"inner\")\n",
    "    df_tetra_order_r4 = df_tetra_order_r4.select(col(\"tetra_order\"), col(\"r1\"), col(\"r2\"), col(\"r3\"), col(\"r4\"), col(\"r1_coor\"), col(\"r2_coor\"), col(\"r3_coor\"), col(\"coor\").alias(\"r4_coor\"))\n",
    "\n",
    "    df_tetra_order = df_tetra_order_r4.select(col(\"tetra_order\"), col(\"r1\"), col(\"r2\"), col(\"r3\"), col(\"r4\"), col(\"r1_coor\"), col(\"r2_coor\"), col(\"r3_coor\"), col(\"r4_coor\"))\n",
    "\n",
    "    return df_tetra_order"
   ]
  },
  {
   "cell_type": "code",
   "execution_count": 17,
   "id": "important-thanks",
   "metadata": {},
   "outputs": [
    {
     "name": "stdout",
     "output_type": "stream",
     "text": [
      "root\n",
      " |-- tetra_order: integer (nullable = true)\n",
      " |-- r1: integer (nullable = true)\n",
      " |-- r2: integer (nullable = true)\n",
      " |-- r3: integer (nullable = true)\n",
      " |-- r4: integer (nullable = true)\n",
      " |-- r1_coor: array (nullable = false)\n",
      " |    |-- element: float (containsNull = true)\n",
      " |-- r2_coor: array (nullable = false)\n",
      " |    |-- element: float (containsNull = true)\n",
      " |-- r3_coor: array (nullable = false)\n",
      " |    |-- element: float (containsNull = true)\n",
      " |-- r4_coor: array (nullable = false)\n",
      " |    |-- element: float (containsNull = true)\n",
      "\n"
     ]
    }
   ],
   "source": [
    "# replaces extreme vertices with sorted vertices\n",
    "df_tetra_coor = replace_ver(df_ver_order, df_tetra_order)\n",
    "\n",
    "df_tetra_coor.printSchema()"
   ]
  },
  {
   "cell_type": "markdown",
   "id": "confused-conspiracy",
   "metadata": {},
   "source": [
    "### compute the trihedal angle of each boundary vertex of a tetrahedron"
   ]
  },
  {
   "cell_type": "code",
   "execution_count": 18,
   "id": "established-excuse",
   "metadata": {},
   "outputs": [
    {
     "name": "stdout",
     "output_type": "stream",
     "text": [
      "root\n",
      " |-- tetra: array (nullable = true)\n",
      " |    |-- element: integer (containsNull = true)\n",
      " |-- tetra_solid: array (nullable = true)\n",
      " |    |-- element: float (containsNull = true)\n",
      "\n"
     ]
    }
   ],
   "source": [
    "# we should avoid using NumPy functions in UDF\n",
    "def compute_trihe_angle(r1, r2, r3, r4, r1_coor, r2_coor, r3_coor, r4_coor):\n",
    "    r1_coor_cmpt = r1_coor[:3]\n",
    "    r2_coor_cmpt = r2_coor[:3]\n",
    "    r3_coor_cmpt = r3_coor[:3]\n",
    "    r4_coor_cmpt = r3_coor[:3]\n",
    "    \n",
    "    def trihe_angle(v1, v2, v3, v4):\n",
    "        # Compute vectors from v0 to other vertices\n",
    "        a = [v2[i] - v1[i] for i in range(3)]\n",
    "        b = [v3[i] - v1[i] for i in range(3)]\n",
    "        c = [v4[i] - v1[i] for i in range(3)]\n",
    "        # Compute scalar triple product\n",
    "        scalar_triple = sum(a[i] * (b[(i+1)%3] * c[(i+2)%3] - b[(i+2)%3] * c[(i+1)%3]) for i in range(3))\n",
    "        # Compute norms and dot products\n",
    "        norm_a = math.sqrt(sum(x ** 2 for x in a))\n",
    "        norm_b = math.sqrt(sum(x ** 2 for x in b))\n",
    "        norm_c = math.sqrt(sum(x ** 2 for x in c))\n",
    "        dot_ab = sum(a[i] * b[i] for i in range(3))\n",
    "        dot_ac = sum(a[i] * c[i] for i in range(3))\n",
    "        dot_bc = sum(b[i] * c[i] for i in range(3))\n",
    "        # Compute the solid angle using the formula\n",
    "        denominator = norm_a * norm_b * norm_c + dot_ab * norm_c + dot_ac * norm_b + dot_bc * norm_a\n",
    "        solid_angle = 2 * math.atan2(scalar_triple, denominator)\n",
    "        \n",
    "        return solid_angle\n",
    "    \n",
    "    r1_solid = trihe_angle(r1_coor_cmpt, r2_coor_cmpt, r3_coor_cmpt, r4_coor_cmpt)\n",
    "    r2_solid = trihe_angle(r2_coor_cmpt, r1_coor_cmpt, r3_coor_cmpt, r4_coor_cmpt)\n",
    "    r3_solid = trihe_angle(r3_coor_cmpt, r1_coor_cmpt, r2_coor_cmpt, r4_coor_cmpt)    \n",
    "    r4_solid = trihe_angle(r4_coor_cmpt, r1_coor_cmpt, r2_coor_cmpt, r3_coor_cmpt)\n",
    "    r_solid = [r1_solid, r2_solid, r3_solid, r4_solid]\n",
    "    \n",
    "    r_ary = [r1, r2, r3, r4]\n",
    "    r_ary_sort = sorted(r_ary, reverse=True) \n",
    "    \n",
    "    solid_ary_sort = [] \n",
    "    final_v1_index = r_ary.index(r_ary_sort[0])\n",
    "    solid_ary_sort.append(r_solid[final_v1_index])   \n",
    "    final_v2_index = r_ary.index(r_ary_sort[1])\n",
    "    solid_ary_sort.append(r_solid[final_v2_index])  \n",
    "    final_v3_index = r_ary.index(r_ary_sort[2])\n",
    "    solid_ary_sort.append(r_solid[final_v3_index])  \n",
    "    final_v4_index = r_ary.index(r_ary_sort[3])\n",
    "    solid_ary_sort.append(r_solid[final_v4_index])\n",
    "    \n",
    "    return r_ary_sort, solid_ary_sort\n",
    "\n",
    "# StructType       \n",
    "compute_trihe_angle_schema = StructType([\n",
    "    StructField('ary_sort', ArrayType(IntegerType()),True), \n",
    "    StructField('solid_ary_sort', ArrayType(FloatType()),True)\n",
    "])\n",
    "\n",
    "compute_trihe_angle_udf = udf(compute_trihe_angle, compute_trihe_angle_schema)\n",
    "\n",
    "df_tetra_solid_init = df_tetra_coor.withColumn(\"T_cur\", compute_trihe_angle_udf(df_tetra_coor.r1, df_tetra_coor.r2, df_tetra_coor.r3, df_tetra_coor.r4, df_tetra_coor.r1_coor, df_tetra_coor.r2_coor, df_tetra_coor.r3_coor, df_tetra_coor.r4_coor))\n",
    "# df_tetra_solid = df_tetra_solid_init.select(\"tetra_order\", \"r1\", \"r2\", \"r3\", \"r4\", col(\"T_cur.ary_sort\").alias(\"tetra\"), col(\"T_cur.solid_ary_sort\").alias(\"tetra_solid\"))\n",
    "df_tetra_solid = df_tetra_solid_init.select(col(\"T_cur.ary_sort\").alias(\"tetra\"), col(\"T_cur.solid_ary_sort\").alias(\"tetra_solid\"))\n",
    "\n",
    "df_tetra_solid.printSchema()"
   ]
  },
  {
   "cell_type": "code",
   "execution_count": 19,
   "id": "pretty-paraguay",
   "metadata": {},
   "outputs": [
    {
     "name": "stdout",
     "output_type": "stream",
     "text": [
      "root\n",
      " |-- Ver: integer (nullable = true)\n",
      " |-- BoundaryOrNot: boolean (nullable = true)\n",
      " |-- single_tetra: array (nullable = true)\n",
      " |    |-- element: integer (containsNull = true)\n",
      " |-- tetra_solid: array (nullable = true)\n",
      " |    |-- element: float (containsNull = true)\n",
      "\n"
     ]
    }
   ],
   "source": [
    "df_Curv_rela_init = df_Curv_rela.select(\"Ver\", \"BoundaryOrNot\", explode(\"VT\").alias(\"single_tetra\"))\n",
    "df_Curv_init_exp = df_Curv_rela_init.join(df_tetra_solid, df_Curv_rela_init.single_tetra == df_tetra_solid.tetra).drop('tetra_order', 'tetra')\n",
    "\n",
    "df_Curv_init_exp.printSchema()"
   ]
  },
  {
   "cell_type": "code",
   "execution_count": 20,
   "id": "disturbed-claim",
   "metadata": {},
   "outputs": [
    {
     "name": "stdout",
     "output_type": "stream",
     "text": [
      "root\n",
      " |-- Ver: integer (nullable = true)\n",
      " |-- BoundaryOrNot: boolean (nullable = true)\n",
      " |-- single_tetra: array (nullable = true)\n",
      " |    |-- element: integer (containsNull = true)\n",
      " |-- v_solid: float (nullable = true)\n",
      "\n"
     ]
    }
   ],
   "source": [
    "def get_v_cur(Ver, single_tetra, tetra_solid):\n",
    "    index_v = single_tetra.index(Ver)\n",
    "    cur_v = tetra_solid[index_v]\n",
    "    \n",
    "    return cur_v\n",
    "\n",
    "get_v_cur_udf = udf(get_v_cur, FloatType())\n",
    "df_Curv_init = df_Curv_init_exp.withColumn(\"v_solid\", get_v_cur_udf(df_Curv_init_exp.Ver, df_Curv_init_exp.single_tetra, df_Curv_init_exp.tetra_solid)).drop('tetra_solid')\n",
    "df_Curv_init.printSchema()"
   ]
  },
  {
   "cell_type": "code",
   "execution_count": 21,
   "id": "exotic-champagne",
   "metadata": {},
   "outputs": [
    {
     "name": "stdout",
     "output_type": "stream",
     "text": [
      "root\n",
      " |-- Ver: integer (nullable = true)\n",
      " |-- BoundaryOrNot: boolean (nullable = true)\n",
      " |-- solid_values: array (nullable = true)\n",
      " |    |-- element: float (containsNull = true)\n",
      "\n"
     ]
    }
   ],
   "source": [
    "df_Curv_gp = df_Curv_init.groupby(\"Ver\", \"BoundaryOrNot\").agg(collect_list(\"v_solid\").alias(\"solid_values\"))\n",
    "df_Curv_gp.printSchema()"
   ]
  },
  {
   "cell_type": "code",
   "execution_count": 22,
   "id": "about-exception",
   "metadata": {},
   "outputs": [
    {
     "name": "stdout",
     "output_type": "stream",
     "text": [
      "root\n",
      " |-- Ver: integer (nullable = true)\n",
      " |-- BoundaryOrNot: boolean (nullable = true)\n",
      " |-- solid_values: array (nullable = true)\n",
      " |    |-- element: float (containsNull = true)\n",
      " |-- discrete_distortion: float (nullable = true)\n",
      "\n"
     ]
    }
   ],
   "source": [
    "def compute_cur(BoundaryOrNot, solid_values):\n",
    "    # discrete distortion for internal vertices\n",
    "    if BoundaryOrNot == False:\n",
    "        distortion = 4*3.14 - sum(solid_values)\n",
    "    else: # boundary vertices\n",
    "        distortion = sum(solid_values)\n",
    "    return distortion\n",
    "\n",
    "compute_cur_udf = udf(compute_cur, FloatType())\n",
    "\n",
    "df_Curv = df_Curv_gp.withColumn(\"discrete_distortion\", compute_cur_udf(df_Curv_gp.BoundaryOrNot, df_Curv_gp.solid_values))\n",
    "df_Curv.printSchema()"
   ]
  },
  {
   "cell_type": "code",
   "execution_count": 23,
   "id": "unlikely-leone",
   "metadata": {},
   "outputs": [
    {
     "name": "stdout",
     "output_type": "stream",
     "text": [
      "Time cost: 35.425727128982544\n",
      "number of rows: 326683\n"
     ]
    }
   ],
   "source": [
    "t0 = time.time()\n",
    "\n",
    "num_row = df_Curv.count()\n",
    "\n",
    "t1 = time.time()\n",
    "t_count_Curv = t1 - t0\n",
    "print(\"Time cost:\", t_count_Curv)\n",
    "print(\"number of rows:\", num_row)"
   ]
  },
  {
   "cell_type": "code",
   "execution_count": 24,
   "id": "earlier-plain",
   "metadata": {},
   "outputs": [
    {
     "name": "stdout",
     "output_type": "stream",
     "text": [
      "****************************\n",
      "Time cost for preparing VT: 24.488054037094116\n",
      "Time cost for preparing VF: 12.739529848098755\n",
      "Time cost for concatenate the relations: 6.649294137954712\n",
      "Total time cost for preparing the relations: 43.87687802314758\n",
      "****************************\n",
      "Time cost for calculating the discrete distortion: 35.425727128982544\n",
      "****************************\n",
      "Total time cost: 79.30260515213013\n"
     ]
    }
   ],
   "source": [
    "print(\"****************************\")\n",
    "print(\"Time cost for preparing VT:\", t_count_VT)\n",
    "print(\"Time cost for preparing VF:\", t_count_VF)\n",
    "print(\"Time cost for concatenate the relations:\", t_count_rela)\n",
    "print(\"Total time cost for preparing the relations:\", t_count_VT + t_count_VF + t_count_rela)\n",
    "\n",
    "print(\"****************************\")\n",
    "print(\"Time cost for calculating the discrete distortion:\", t_count_Curv)\n",
    "\n",
    "print(\"****************************\")\n",
    "print(\"Total time cost:\", t_count_VT + t_count_VF + t_count_rela + t_count_Curv)"
   ]
  },
  {
   "cell_type": "code",
   "execution_count": null,
   "id": "varying-daughter",
   "metadata": {},
   "outputs": [],
   "source": []
  }
 ],
 "metadata": {
  "kernelspec": {
   "display_name": "Python 3",
   "language": "python",
   "name": "python3"
  },
  "language_info": {
   "codemirror_mode": {
    "name": "ipython",
    "version": 3
   },
   "file_extension": ".py",
   "mimetype": "text/x-python",
   "name": "python",
   "nbconvert_exporter": "python",
   "pygments_lexer": "ipython3",
   "version": "3.7.7"
  }
 },
 "nbformat": 4,
 "nbformat_minor": 5
}
